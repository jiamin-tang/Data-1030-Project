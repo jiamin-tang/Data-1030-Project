{
 "cells": [
  {
   "cell_type": "code",
   "execution_count": 209,
   "metadata": {},
   "outputs": [
    {
     "data": {
      "text/plain": [
       "(10841, 13)"
      ]
     },
     "execution_count": 209,
     "metadata": {},
     "output_type": "execute_result"
    }
   ],
   "source": [
    "import pandas as pd\n",
    "import numpy  as np\n",
    "\n",
    "df = pd.read_csv('googleplaystore.csv')\n",
    "df.shape"
   ]
  },
  {
   "cell_type": "code",
   "execution_count": 210,
   "metadata": {},
   "outputs": [
    {
     "name": "stdout",
     "output_type": "stream",
     "text": [
      "App               0.000000\n",
      "Category          0.000000\n",
      "Rating            0.135965\n",
      "Reviews           0.000000\n",
      "Size              0.000000\n",
      "Installs          0.000000\n",
      "Type              0.000092\n",
      "Price             0.000000\n",
      "Content Rating    0.000092\n",
      "Genres            0.000000\n",
      "Last Updated      0.000000\n",
      "Current Ver       0.000738\n",
      "Android Ver       0.000277\n",
      "dtype: float64\n",
      "0.13661101374411955\n"
     ]
    }
   ],
   "source": [
    "# check the fraction of missing values per column\n",
    "print(df.isnull().sum(axis=0)/df.shape[0])\n",
    "print(sum(df.isnull().sum(axis=1)!=0)/df.shape[0])"
   ]
  },
  {
   "cell_type": "code",
   "execution_count": 211,
   "metadata": {},
   "outputs": [
    {
     "name": "stderr",
     "output_type": "stream",
     "text": [
      "/opt/conda/lib/python3.7/site-packages/ipykernel_launcher.py:6: SettingWithCopyWarning: \n",
      "A value is trying to be set on a copy of a slice from a DataFrame\n",
      "\n",
      "See the caveats in the documentation: http://pandas.pydata.org/pandas-docs/stable/user_guide/indexing.html#returning-a-view-versus-a-copy\n",
      "  \n"
     ]
    },
    {
     "data": {
      "text/plain": [
       "False"
      ]
     },
     "execution_count": 211,
     "metadata": {},
     "output_type": "execute_result"
    }
   ],
   "source": [
    "# fill in Types since it can be implied from Price\n",
    "a = df.Type.isna()\n",
    "for i in range(len(df.Type)):\n",
    "    if a[i] == True:\n",
    "        if df.Price[i] == \"0\":\n",
    "            df.Type[i] = \"Free\"\n",
    "        else:\n",
    "            df.Type[i] = \"Paid\"\n",
    "\n",
    "df.Type.isna().any()"
   ]
  },
  {
   "cell_type": "code",
   "execution_count": 212,
   "metadata": {},
   "outputs": [
    {
     "data": {
      "text/plain": [
       "False"
      ]
     },
     "execution_count": 212,
     "metadata": {},
     "output_type": "execute_result"
    }
   ],
   "source": [
    "# treat missing values in Content Rating\n",
    "df[\"Content Rating\"].replace(to_replace=np.nan,value = \"missing\", inplace=True)\n",
    "df[\"Content Rating\"].isna().any()"
   ]
  },
  {
   "cell_type": "code",
   "execution_count": 213,
   "metadata": {},
   "outputs": [],
   "source": [
    "# reserve missing datapoints in Rating as test set\n",
    "df_test = df.iloc[list(np.where(np.isnan(df.Rating))[0])]"
   ]
  },
  {
   "cell_type": "code",
   "execution_count": 214,
   "metadata": {},
   "outputs": [
    {
     "name": "stdout",
     "output_type": "stream",
     "text": [
      "<class 'pandas.core.frame.DataFrame'>\n",
      "Int64Index: 9360 entries, 0 to 10840\n",
      "Data columns (total 13 columns):\n",
      "App               9360 non-null object\n",
      "Category          9360 non-null object\n",
      "Rating            9360 non-null float64\n",
      "Reviews           9360 non-null object\n",
      "Size              9360 non-null object\n",
      "Installs          9360 non-null object\n",
      "Type              9360 non-null object\n",
      "Price             9360 non-null object\n",
      "Content Rating    9360 non-null object\n",
      "Genres            9360 non-null object\n",
      "Last Updated      9360 non-null object\n",
      "Current Ver       9360 non-null object\n",
      "Android Ver       9360 non-null object\n",
      "dtypes: float64(1), object(12)\n",
      "memory usage: 1023.8+ KB\n"
     ]
    }
   ],
   "source": [
    "# drop missing values\n",
    "df.dropna(inplace = True)   #remove missing entries\n",
    "df.info()"
   ]
  },
  {
   "cell_type": "code",
   "execution_count": 215,
   "metadata": {},
   "outputs": [
    {
     "name": "stdout",
     "output_type": "stream",
     "text": [
      "['ART_AND_DESIGN' 'AUTO_AND_VEHICLES' 'BEAUTY' 'BOOKS_AND_REFERENCE'\n",
      " 'BUSINESS' 'COMICS' 'COMMUNICATION' 'DATING' 'EDUCATION' 'ENTERTAINMENT'\n",
      " 'EVENTS' 'FINANCE' 'FOOD_AND_DRINK' 'HEALTH_AND_FITNESS' 'HOUSE_AND_HOME'\n",
      " 'LIBRARIES_AND_DEMO' 'LIFESTYLE' 'GAME' 'FAMILY' 'MEDICAL' 'SOCIAL'\n",
      " 'SHOPPING' 'PHOTOGRAPHY' 'SPORTS' 'TRAVEL_AND_LOCAL' 'TOOLS'\n",
      " 'PERSONALIZATION' 'PRODUCTIVITY' 'PARENTING' 'WEATHER' 'VIDEO_PLAYERS'\n",
      " 'NEWS_AND_MAGAZINES' 'MAPS_AND_NAVIGATION']\n",
      "(33,)\n"
     ]
    }
   ],
   "source": [
    "print(df.Category.unique())\n",
    "print(df.Category.unique().shape)"
   ]
  },
  {
   "cell_type": "code",
   "execution_count": 216,
   "metadata": {},
   "outputs": [
    {
     "data": {
      "text/plain": [
       "dtype('int64')"
      ]
     },
     "execution_count": 216,
     "metadata": {},
     "output_type": "execute_result"
    }
   ],
   "source": [
    "# convert the type of Reviews from object to int\n",
    "df['Reviews'] = df['Reviews'].astype(int)\n",
    "df.Reviews.dtypes"
   ]
  },
  {
   "cell_type": "code",
   "execution_count": 217,
   "metadata": {},
   "outputs": [
    {
     "data": {
      "text/plain": [
       "0                       19M\n",
       "1                       14M\n",
       "2                      8.7M\n",
       "3                       25M\n",
       "4                      2.8M\n",
       "                ...        \n",
       "10834                  2.6M\n",
       "10836                   53M\n",
       "10837                  3.6M\n",
       "10839    Varies with device\n",
       "10840                   19M\n",
       "Name: Size, Length: 9360, dtype: object"
      ]
     },
     "execution_count": 217,
     "metadata": {},
     "output_type": "execute_result"
    }
   ],
   "source": [
    "df.Size"
   ]
  },
  {
   "cell_type": "code",
   "execution_count": 218,
   "metadata": {},
   "outputs": [],
   "source": [
    "df['Size varies'] = df.Size.apply(lambda x: 1 if 'Varies' in x else 0)"
   ]
  },
  {
   "cell_type": "code",
   "execution_count": 219,
   "metadata": {},
   "outputs": [],
   "source": [
    "df.Size = df.Size.replace('Varies with device','0')"
   ]
  },
  {
   "cell_type": "code",
   "execution_count": 220,
   "metadata": {},
   "outputs": [],
   "source": [
    "#convert Size into a uniform standard of numeric\n",
    "df.Size = df.Size.str.replace('k','e+3')\n",
    "df.Size = df.Size.str.replace('M','e+6')"
   ]
  },
  {
   "cell_type": "code",
   "execution_count": 221,
   "metadata": {},
   "outputs": [],
   "source": [
    "df.Size = pd.to_numeric(df.Size)"
   ]
  },
  {
   "cell_type": "code",
   "execution_count": 222,
   "metadata": {},
   "outputs": [],
   "source": [
    "df.Size = df.Size/1000000"
   ]
  },
  {
   "cell_type": "code",
   "execution_count": 223,
   "metadata": {},
   "outputs": [
    {
     "data": {
      "text/plain": [
       "0        19.0\n",
       "1        14.0\n",
       "2         8.7\n",
       "3        25.0\n",
       "4         2.8\n",
       "         ... \n",
       "10834     2.6\n",
       "10836    53.0\n",
       "10837     3.6\n",
       "10839     0.0\n",
       "10840    19.0\n",
       "Name: Size, Length: 9360, dtype: float64"
      ]
     },
     "execution_count": 223,
     "metadata": {},
     "output_type": "execute_result"
    }
   ],
   "source": [
    "df.Size"
   ]
  },
  {
   "cell_type": "code",
   "execution_count": 224,
   "metadata": {},
   "outputs": [
    {
     "data": {
      "text/plain": [
       "array(['10,000+', '500,000+', '5,000,000+', '50,000,000+', '100,000+',\n",
       "       '50,000+', '1,000,000+', '10,000,000+', '5,000+', '100,000,000+',\n",
       "       '1,000,000,000+', '1,000+', '500,000,000+', '100+', '500+', '10+',\n",
       "       '5+', '50+', '1+'], dtype=object)"
      ]
     },
     "execution_count": 224,
     "metadata": {},
     "output_type": "execute_result"
    }
   ],
   "source": [
    "# seen as a categorical feature and find the unique values\n",
    "a = df.Installs.unique()\n",
    "a"
   ]
  },
  {
   "cell_type": "code",
   "execution_count": 225,
   "metadata": {},
   "outputs": [
    {
     "data": {
      "text/plain": [
       "array(['0', '$4.99', '$3.99', '$6.99', '$7.99', '$5.99', '$2.99', '$3.49',\n",
       "       '$1.99', '$9.99', '$7.49', '$0.99', '$9.00', '$5.49', '$10.00',\n",
       "       '$24.99', '$11.99', '$79.99', '$16.99', '$14.99', '$29.99',\n",
       "       '$12.99', '$2.49', '$10.99', '$1.50', '$19.99', '$15.99', '$33.99',\n",
       "       '$39.99', '$3.95', '$4.49', '$1.70', '$8.99', '$1.49', '$3.88',\n",
       "       '$399.99', '$17.99', '$400.00', '$3.02', '$1.76', '$4.84', '$4.77',\n",
       "       '$1.61', '$2.50', '$1.59', '$6.49', '$1.29', '$299.99', '$379.99',\n",
       "       '$37.99', '$18.99', '$389.99', '$8.49', '$1.75', '$14.00', '$2.00',\n",
       "       '$3.08', '$2.59', '$19.40', '$3.90', '$4.59', '$15.46', '$3.04',\n",
       "       '$13.99', '$4.29', '$3.28', '$4.60', '$1.00', '$2.95', '$2.90',\n",
       "       '$1.97', '$2.56', '$1.20'], dtype=object)"
      ]
     },
     "execution_count": 225,
     "metadata": {},
     "output_type": "execute_result"
    }
   ],
   "source": [
    "df.Price.unique()"
   ]
  },
  {
   "cell_type": "code",
   "execution_count": 226,
   "metadata": {},
   "outputs": [
    {
     "data": {
      "text/plain": [
       "array([  0.  ,   4.99,   3.99,   6.99,   7.99,   5.99,   2.99,   3.49,\n",
       "         1.99,   9.99,   7.49,   0.99,   9.  ,   5.49,  10.  ,  24.99,\n",
       "        11.99,  79.99,  16.99,  14.99,  29.99,  12.99,   2.49,  10.99,\n",
       "         1.5 ,  19.99,  15.99,  33.99,  39.99,   3.95,   4.49,   1.7 ,\n",
       "         8.99,   1.49,   3.88, 399.99,  17.99, 400.  ,   3.02,   1.76,\n",
       "         4.84,   4.77,   1.61,   2.5 ,   1.59,   6.49,   1.29, 299.99,\n",
       "       379.99,  37.99,  18.99, 389.99,   8.49,   1.75,  14.  ,   2.  ,\n",
       "         3.08,   2.59,  19.4 ,   3.9 ,   4.59,  15.46,   3.04,  13.99,\n",
       "         4.29,   3.28,   4.6 ,   1.  ,   2.95,   2.9 ,   1.97,   2.56,\n",
       "         1.2 ])"
      ]
     },
     "execution_count": 226,
     "metadata": {},
     "output_type": "execute_result"
    }
   ],
   "source": [
    "# remove the \"$\" and convert to numeric\n",
    "df.Price = df.Price.apply(lambda x: x.strip('$'))\n",
    "df.Price = pd.to_numeric(df.Price)\n",
    "df.Price.unique()"
   ]
  },
  {
   "cell_type": "code",
   "execution_count": 227,
   "metadata": {},
   "outputs": [
    {
     "data": {
      "text/plain": [
       "array(['Everyone', 'Teen', 'Everyone 10+', 'Mature 17+',\n",
       "       'Adults only 18+', 'Unrated'], dtype=object)"
      ]
     },
     "execution_count": 227,
     "metadata": {},
     "output_type": "execute_result"
    }
   ],
   "source": [
    "df[\"Content Rating\"].unique()"
   ]
  },
  {
   "cell_type": "code",
   "execution_count": 228,
   "metadata": {},
   "outputs": [
    {
     "data": {
      "text/plain": [
       "0                     Art & Design\n",
       "1        Art & Design;Pretend Play\n",
       "2                     Art & Design\n",
       "3                     Art & Design\n",
       "4          Art & Design;Creativity\n",
       "                   ...            \n",
       "10834                    Education\n",
       "10836                    Education\n",
       "10837                    Education\n",
       "10839            Books & Reference\n",
       "10840                    Lifestyle\n",
       "Name: Genres, Length: 9360, dtype: object"
      ]
     },
     "execution_count": 228,
     "metadata": {},
     "output_type": "execute_result"
    }
   ],
   "source": [
    "df.Genres"
   ]
  },
  {
   "cell_type": "code",
   "execution_count": 229,
   "metadata": {},
   "outputs": [],
   "source": [
    "# split the genres\n",
    "split_genres1 = df.Genres.apply(lambda x: x.split(';')[0])\n",
    "split_genres2 = df.Genres.apply(lambda x: x.split(';')[-1])\n",
    "df[\"First Genre\"]=split_genres1\n",
    "df[\"Second Genre\"]=split_genres2"
   ]
  },
  {
   "cell_type": "code",
   "execution_count": 230,
   "metadata": {},
   "outputs": [
    {
     "data": {
      "text/plain": [
       "0         January 7, 2018\n",
       "1        January 15, 2018\n",
       "2          August 1, 2018\n",
       "3            June 8, 2018\n",
       "4           June 20, 2018\n",
       "               ...       \n",
       "10834       June 18, 2017\n",
       "10836       July 25, 2017\n",
       "10837        July 6, 2018\n",
       "10839    January 19, 2015\n",
       "10840       July 25, 2018\n",
       "Name: Last Updated, Length: 9360, dtype: object"
      ]
     },
     "execution_count": 230,
     "metadata": {},
     "output_type": "execute_result"
    }
   ],
   "source": [
    "df[\"Last Updated\"]"
   ]
  },
  {
   "cell_type": "code",
   "execution_count": 231,
   "metadata": {},
   "outputs": [
    {
     "data": {
      "text/plain": [
       "0   2018-01-07\n",
       "1   2018-01-15\n",
       "2   2018-08-01\n",
       "3   2018-06-08\n",
       "4   2018-06-20\n",
       "Name: Last Updated, dtype: datetime64[ns]"
      ]
     },
     "execution_count": 231,
     "metadata": {},
     "output_type": "execute_result"
    }
   ],
   "source": [
    "# convert it to the date using datetime package\n",
    "from datetime import datetime,date\n",
    "update_date=pd.to_datetime(df[\"Last Updated\"])\n",
    "update_date.head()"
   ]
  },
  {
   "cell_type": "code",
   "execution_count": 232,
   "metadata": {},
   "outputs": [
    {
     "data": {
      "text/plain": [
       "0        652 days\n",
       "1        644 days\n",
       "2        446 days\n",
       "3        500 days\n",
       "4        488 days\n",
       "           ...   \n",
       "10834    855 days\n",
       "10836    818 days\n",
       "10837    472 days\n",
       "10839   1736 days\n",
       "10840    453 days\n",
       "Name: Updated Days, Length: 9360, dtype: timedelta64[ns]"
      ]
     },
     "execution_count": 232,
     "metadata": {},
     "output_type": "execute_result"
    }
   ],
   "source": [
    "# convert to the days till now to get more inspirations\n",
    "df[\"Updated Days\"] = update_date.apply(lambda x:date.today()-datetime.date(x))\n",
    "df[\"Updated Days\"]"
   ]
  },
  {
   "cell_type": "code",
   "execution_count": 233,
   "metadata": {},
   "outputs": [
    {
     "data": {
      "text/plain": [
       "0         652.0\n",
       "1         644.0\n",
       "2         446.0\n",
       "3         500.0\n",
       "4         488.0\n",
       "          ...  \n",
       "10834     855.0\n",
       "10836     818.0\n",
       "10837     472.0\n",
       "10839    1736.0\n",
       "10840     453.0\n",
       "Name: Updated Days, Length: 9360, dtype: float64"
      ]
     },
     "execution_count": 233,
     "metadata": {},
     "output_type": "execute_result"
    }
   ],
   "source": [
    "# convert to numeric\n",
    "df[\"Updated Days\"] = df[\"Updated Days\"].astype(int)\n",
    "df[\"Updated Days\"] = df[\"Updated Days\"] / 864e+11\n",
    "df[\"Updated Days\"]"
   ]
  },
  {
   "cell_type": "code",
   "execution_count": 234,
   "metadata": {},
   "outputs": [
    {
     "data": {
      "text/plain": [
       "0                     1.0.0\n",
       "1                     2.0.0\n",
       "2                     1.2.4\n",
       "3        Varies with device\n",
       "4                       1.1\n",
       "                ...        \n",
       "10834                 1.0.0\n",
       "10836                  1.48\n",
       "10837                   1.0\n",
       "10839    Varies with device\n",
       "10840    Varies with device\n",
       "Name: Current Ver, Length: 9360, dtype: object"
      ]
     },
     "execution_count": 234,
     "metadata": {},
     "output_type": "execute_result"
    }
   ],
   "source": [
    "df[\"Current Ver\"]"
   ]
  },
  {
   "cell_type": "code",
   "execution_count": 235,
   "metadata": {},
   "outputs": [],
   "source": [
    "# change into the format of number.number\n",
    "import re\n",
    "df[\"Current Ver\"]=df[\"Current Ver\"].apply(lambda x: 'Varies with device' if x=='Varies with device'  else  re.findall('^[0-9]\\.[0-9]|[\\d]|\\W*',str(x))[0])"
   ]
  },
  {
   "cell_type": "code",
   "execution_count": 236,
   "metadata": {},
   "outputs": [
    {
     "data": {
      "text/plain": [
       "array(['1.0', '2.0', '1.2', 'Varies with device', '1.1', '6.1', '2.9',\n",
       "       '2.8', '3.8', '3.1', '2.2', '5.5', '4.0', '1.5', '6.0', '6.7',\n",
       "       '1.6', '2.1', '1.3', '1', '1.4', '3.0', '1.7', '2.5', '2.4', '1.9',\n",
       "       '0.2', '4.4', '2.3', '8.3', '3.2', '4.6', '5.4', '3.3', '9.1',\n",
       "       '5.0', '9.0', '7.0', '3.9', '3.4', '9.7', '4.9', '5.2', '3.5',\n",
       "       '7.3', '5.1', '4.1', '9', '0.9', '6.4', '3.7', '2.6', '4.3', '6.3',\n",
       "       '4.7', '4.2', '1.8', '3', '9.8', '2', '4', '', '6', '7.5', '9.9',\n",
       "       '0.1', '7.7', '7.2', '6.5', '5.6', '4.5', '5.8', '8.1', '6.6',\n",
       "       '4.8', '8.7', '0.0', '3.6', '5.3', '8.2', '5.7', '8.5', '0', '8.0',\n",
       "       '8.4', '6.8', '6.2', '2.7', '5.9', '7.8', '7.1', '7.9', '8.8',\n",
       "       '7.4', '9.6', '8', '9.4', '5', '0.7', '0.5', '7', '7.6', '0.6',\n",
       "       '8.9', '6.9', '9.3', '9.2', '8.6', '9.5', '0.8', '0.4', '0.3'],\n",
       "      dtype=object)"
      ]
     },
     "execution_count": 236,
     "metadata": {},
     "output_type": "execute_result"
    }
   ],
   "source": [
    "df[\"Current Ver\"].unique()"
   ]
  },
  {
   "cell_type": "code",
   "execution_count": 237,
   "metadata": {},
   "outputs": [],
   "source": [
    "df['Current ver varies'] = df['Current Ver'].apply(lambda x: 1 if 'Varies' in x else 0)"
   ]
  },
  {
   "cell_type": "code",
   "execution_count": 238,
   "metadata": {},
   "outputs": [
    {
     "data": {
      "text/plain": [
       "array(['1.0', '2.0', '1.2', '0', '1.1', '6.1', '2.9', '2.8', '3.8', '3.1',\n",
       "       '2.2', '5.5', '4.0', '1.5', '6.0', '6.7', '1.6', '2.1', '1.3', '1',\n",
       "       '1.4', '3.0', '1.7', '2.5', '2.4', '1.9', '0.2', '4.4', '2.3',\n",
       "       '8.3', '3.2', '4.6', '5.4', '3.3', '9.1', '5.0', '9.0', '7.0',\n",
       "       '3.9', '3.4', '9.7', '4.9', '5.2', '3.5', '7.3', '5.1', '4.1', '9',\n",
       "       '0.9', '6.4', '3.7', '2.6', '4.3', '6.3', '4.7', '4.2', '1.8', '3',\n",
       "       '9.8', '2', '4', '6', '7.5', '9.9', '0.1', '7.7', '7.2', '6.5',\n",
       "       '5.6', '4.5', '5.8', '8.1', '6.6', '4.8', '8.7', '0.0', '3.6',\n",
       "       '5.3', '8.2', '5.7', '8.5', '8.0', '8.4', '6.8', '6.2', '2.7',\n",
       "       '5.9', '7.8', '7.1', '7.9', '8.8', '7.4', '9.6', '8', '9.4', '5',\n",
       "       '0.7', '0.5', '7', '7.6', '0.6', '8.9', '6.9', '9.3', '9.2', '8.6',\n",
       "       '9.5', '0.8', '0.4', '0.3'], dtype=object)"
      ]
     },
     "execution_count": 238,
     "metadata": {},
     "output_type": "execute_result"
    }
   ],
   "source": [
    "# deal with \"Varies\" and empty values\n",
    "df[\"Current Ver\"].replace(to_replace=\"Varies with device\",value = \"0\", inplace=True)\n",
    "df[\"Current Ver\"].replace(to_replace=\"\",value = \"0\", inplace=True)\n",
    "df[\"Current Ver\"].unique()"
   ]
  },
  {
   "cell_type": "code",
   "execution_count": 239,
   "metadata": {},
   "outputs": [],
   "source": [
    "# seen as categorical and order it\n",
    "df[\"Current Ver\"] = pd.to_numeric(df[\"Current Ver\"])\n",
    "uniq_ver = df[\"Current Ver\"].unique()\n",
    "ord_ver = sorted(uniq_ver)"
   ]
  },
  {
   "cell_type": "code",
   "execution_count": 240,
   "metadata": {},
   "outputs": [
    {
     "data": {
      "text/plain": [
       "array(['4.0.3 and up', '4.2 and up', '4.4 and up', '2.3 and up',\n",
       "       '3.0 and up', '4.1 and up', '4.0 and up', '2.3.3 and up',\n",
       "       'Varies with device', '2.2 and up', '5.0 and up', '6.0 and up',\n",
       "       '1.6 and up', '1.5 and up', '2.1 and up', '7.0 and up',\n",
       "       '4.3 and up', '4.0.3 - 7.1.1', '2.0 and up', '3.2 and up',\n",
       "       '4.4W and up', '5.1 and up', '7.1 and up', '7.0 - 7.1.1',\n",
       "       '8.0 and up', '5.0 - 8.0', '3.1 and up', '2.0.1 and up',\n",
       "       '4.1 - 7.1.1', '5.0 - 6.0', '1.0 and up'], dtype=object)"
      ]
     },
     "execution_count": 240,
     "metadata": {},
     "output_type": "execute_result"
    }
   ],
   "source": [
    "df[\"Android Ver\"].unique()"
   ]
  },
  {
   "cell_type": "code",
   "execution_count": 241,
   "metadata": {},
   "outputs": [],
   "source": [
    "df['Android ver varies'] = df['Android Ver'].apply(lambda x: 1 if 'Varies' in x else 0)"
   ]
  },
  {
   "cell_type": "code",
   "execution_count": 242,
   "metadata": {},
   "outputs": [],
   "source": [
    "# split\n",
    "df[\"Min Ver\"]=df[\"Android Ver\"].apply(lambda x:str(x).split(' and ')[0].split(' - ')[0])\n",
    "df[\"Min Ver\"]=df[\"Min Ver\"].replace('4.4W','4.4')\n",
    "df[\"Max Ver\"]=df[\"Android Ver\"].apply(lambda x:str(x).split(' and ')[-1].split(' - ')[-1])"
   ]
  },
  {
   "cell_type": "code",
   "execution_count": 243,
   "metadata": {},
   "outputs": [
    {
     "data": {
      "text/plain": [
       "array(['4.0.3', '4.2', '4.4', '2.3', '3.0', '4.1', '4.0', '2.3.3',\n",
       "       'Varies with device', '2.2', '5.0', '6.0', '1.6', '1.5', '2.1',\n",
       "       '7.0', '4.3', '2.0', '3.2', '5.1', '7.1', '8.0', '3.1', '2.0.1',\n",
       "       '1.0'], dtype=object)"
      ]
     },
     "execution_count": 243,
     "metadata": {},
     "output_type": "execute_result"
    }
   ],
   "source": [
    "df[\"Min Ver\"].unique()"
   ]
  },
  {
   "cell_type": "code",
   "execution_count": 244,
   "metadata": {},
   "outputs": [
    {
     "data": {
      "text/plain": [
       "array(['up', 'Varies with device', '7.1.1', '8.0', '6.0'], dtype=object)"
      ]
     },
     "execution_count": 244,
     "metadata": {},
     "output_type": "execute_result"
    }
   ],
   "source": [
    "df[\"Max Ver\"].unique()"
   ]
  },
  {
   "cell_type": "code",
   "execution_count": 245,
   "metadata": {},
   "outputs": [],
   "source": [
    "df[\"Min Ver\"].replace(to_replace=\"Varies with device\",value = \"0\", inplace=True)\n",
    "df[\"Max Ver\"].replace(to_replace=\"Varies with device\",value = \"0\", inplace=True)\n",
    "\n",
    "df[\"Min Ver\"]=df[\"Min Ver\"].apply(lambda x: 'Varies with device' if x=='Varies with device'  else  re.findall('^[0-9]\\.[0-9]|[\\d]|\\W*',str(x))[0])\n",
    "df[\"Max Ver\"]=df[\"Max Ver\"].apply(lambda x: 'Varies with device' if x=='Varies with device'  else  ('9.0' if 'up' in x else re.findall('^[0-9]\\.[0-9]|[\\d]|\\W*',str(x)))[0])"
   ]
  },
  {
   "cell_type": "code",
   "execution_count": 246,
   "metadata": {},
   "outputs": [
    {
     "data": {
      "text/plain": [
       "array(['4.0', '4.2', '4.4', '2.3', '3.0', '4.1', '0', '2.2', '5.0', '6.0',\n",
       "       '1.6', '1.5', '2.1', '7.0', '4.3', '2.0', '3.2', '5.1', '7.1',\n",
       "       '8.0', '3.1', '1.0'], dtype=object)"
      ]
     },
     "execution_count": 246,
     "metadata": {},
     "output_type": "execute_result"
    }
   ],
   "source": [
    "a1 = df[\"Min Ver\"].unique()\n",
    "a1"
   ]
  },
  {
   "cell_type": "code",
   "execution_count": 247,
   "metadata": {},
   "outputs": [],
   "source": [
    "ord_min = sorted(a1)"
   ]
  },
  {
   "cell_type": "code",
   "execution_count": 248,
   "metadata": {},
   "outputs": [
    {
     "data": {
      "text/plain": [
       "array(['9', '0', '7.1', '8.0', '6.0'], dtype=object)"
      ]
     },
     "execution_count": 248,
     "metadata": {},
     "output_type": "execute_result"
    }
   ],
   "source": [
    "df[\"Max Ver\"].unique()"
   ]
  },
  {
   "cell_type": "code",
   "execution_count": 249,
   "metadata": {},
   "outputs": [],
   "source": [
    "a2 = df[\"Max Ver\"].unique()\n",
    "ord_max = sorted(a2)"
   ]
  },
  {
   "cell_type": "code",
   "execution_count": 250,
   "metadata": {},
   "outputs": [
    {
     "name": "stdout",
     "output_type": "stream",
     "text": [
      "<class 'pandas.core.frame.DataFrame'>\n",
      "Int64Index: 9360 entries, 0 to 10840\n",
      "Data columns (total 21 columns):\n",
      "App                   9360 non-null object\n",
      "Category              9360 non-null object\n",
      "Rating                9360 non-null float64\n",
      "Reviews               9360 non-null int64\n",
      "Size                  9360 non-null float64\n",
      "Installs              9360 non-null object\n",
      "Type                  9360 non-null object\n",
      "Price                 9360 non-null float64\n",
      "Content Rating        9360 non-null object\n",
      "Genres                9360 non-null object\n",
      "Last Updated          9360 non-null object\n",
      "Current Ver           9360 non-null float64\n",
      "Android Ver           9360 non-null object\n",
      "Size varies           9360 non-null int64\n",
      "First Genre           9360 non-null object\n",
      "Second Genre          9360 non-null object\n",
      "Updated Days          9360 non-null float64\n",
      "Current ver varies    9360 non-null int64\n",
      "Android ver varies    9360 non-null int64\n",
      "Min Ver               9360 non-null object\n",
      "Max Ver               9360 non-null object\n",
      "dtypes: float64(5), int64(4), object(12)\n",
      "memory usage: 1.6+ MB\n"
     ]
    }
   ],
   "source": [
    "df.info()"
   ]
  },
  {
   "cell_type": "code",
   "execution_count": 251,
   "metadata": {},
   "outputs": [],
   "source": [
    "from sklearn.preprocessing import OneHotEncoder\n",
    "from sklearn.preprocessing import OrdinalEncoder\n",
    "from sklearn.preprocessing import MinMaxScaler\n",
    "from sklearn.preprocessing import StandardScaler\n",
    "from sklearn.preprocessing import LabelEncoder\n",
    "from sklearn.impute import SimpleImputer"
   ]
  },
  {
   "cell_type": "code",
   "execution_count": 252,
   "metadata": {},
   "outputs": [
    {
     "name": "stdout",
     "output_type": "stream",
     "text": [
      "(9360, 21)\n"
     ]
    }
   ],
   "source": [
    "#df.drop(columns=['App'],inplace=True)\n",
    "print(df.shape)\n",
    "cat_ftrs = ['Category','First Genre','Second Genre']\n",
    "ordinal_ftrs = ['Size varies','Installs','Type','Content Rating','Current Ver','Current ver varies','Min Ver','Max Ver','Android ver varies']\n",
    "ordinal_cats = [[0,1],\\\n",
    "                ['1+','5+','10+','50+','100+','500+','1,000+','5,000+','10,000+','50,000+','100,000+','500,000+',\\\n",
    "                 '1,000,000+','5,000,000+','10,000,000+','50,000,000+','100,000,000+','500,000,000+','1,000,000,000+'],\\\n",
    "                ['Free','Paid'],\\\n",
    "                ['Teen','Everyone 10+','Mature 17+','Adults only 18+','Everyone','Unrated'],\\\n",
    "                ord_ver,[0,1],ord_min,ord_max,[0,1]]\n",
    "minmax_ftrs = ['Price']\n",
    "standard_ftrs = ['Reviews','Size','Updated Days']"
   ]
  },
  {
   "cell_type": "code",
   "execution_count": 253,
   "metadata": {},
   "outputs": [
    {
     "data": {
      "text/plain": [
       "Index(['App', 'Category', 'Rating', 'Reviews', 'Size', 'Installs', 'Type',\n",
       "       'Price', 'Content Rating', 'Genres', 'Last Updated', 'Current Ver',\n",
       "       'Android Ver', 'Size varies', 'First Genre', 'Second Genre',\n",
       "       'Updated Days', 'Current ver varies', 'Android ver varies', 'Min Ver',\n",
       "       'Max Ver'],\n",
       "      dtype='object')"
      ]
     },
     "execution_count": 253,
     "metadata": {},
     "output_type": "execute_result"
    }
   ],
   "source": [
    "df.columns"
   ]
  },
  {
   "cell_type": "code",
   "execution_count": 254,
   "metadata": {},
   "outputs": [],
   "source": [
    "# one-hot encoder\n",
    "ohe = OneHotEncoder(sparse=False)\n",
    "si = SimpleImputer(strategy='constant',fill_value='missing')\n",
    "cat_values = ohe.fit_transform(si.fit_transform(df[cat_ftrs]))\n",
    "cat_ftr_names = ohe.get_feature_names()\n",
    "df_cat = pd.DataFrame(data=cat_values,columns = cat_ftr_names)"
   ]
  },
  {
   "cell_type": "code",
   "execution_count": 255,
   "metadata": {},
   "outputs": [],
   "source": [
    "# ordinal encoder\n",
    "oe = OrdinalEncoder(categories = ordinal_cats)\n",
    "si2 = SimpleImputer(strategy='constant',fill_value='NA')\n",
    "oe_values = oe.fit_transform(si2.fit_transform(df[ordinal_ftrs]))\n",
    "df_ordinal = pd.DataFrame(data=oe_values,columns = ordinal_ftrs)"
   ]
  },
  {
   "cell_type": "code",
   "execution_count": 256,
   "metadata": {},
   "outputs": [],
   "source": [
    "# standard scaler\n",
    "ss = StandardScaler()\n",
    "num_values = ss.fit_transform(df[standard_ftrs])\n",
    "df_standard = pd.DataFrame(data=num_values,columns = standard_ftrs)"
   ]
  },
  {
   "cell_type": "code",
   "execution_count": 257,
   "metadata": {},
   "outputs": [],
   "source": [
    "# minmax scaler\n",
    "mms = MinMaxScaler()\n",
    "minmax_values = ss.fit_transform(df[minmax_ftrs])\n",
    "df_minmax = pd.DataFrame(data=minmax_values,columns = minmax_ftrs)"
   ]
  },
  {
   "cell_type": "code",
   "execution_count": 258,
   "metadata": {},
   "outputs": [
    {
     "data": {
      "text/plain": [
       "(9360, 147)"
      ]
     },
     "execution_count": 258,
     "metadata": {},
     "output_type": "execute_result"
    }
   ],
   "source": [
    "df_preprocessed = pd.concat([df_cat,df_ordinal,df_standard,df_minmax],axis=1)\n",
    "df_preprocessed['Rating'] = df['Rating']\n",
    "df_preprocessed.shape"
   ]
  },
  {
   "cell_type": "code",
   "execution_count": 259,
   "metadata": {},
   "outputs": [
    {
     "data": {
      "text/html": [
       "<div>\n",
       "<style scoped>\n",
       "    .dataframe tbody tr th:only-of-type {\n",
       "        vertical-align: middle;\n",
       "    }\n",
       "\n",
       "    .dataframe tbody tr th {\n",
       "        vertical-align: top;\n",
       "    }\n",
       "\n",
       "    .dataframe thead th {\n",
       "        text-align: right;\n",
       "    }\n",
       "</style>\n",
       "<table border=\"1\" class=\"dataframe\">\n",
       "  <thead>\n",
       "    <tr style=\"text-align: right;\">\n",
       "      <th></th>\n",
       "      <th>x0_ART_AND_DESIGN</th>\n",
       "      <th>x0_AUTO_AND_VEHICLES</th>\n",
       "      <th>x0_BEAUTY</th>\n",
       "      <th>x0_BOOKS_AND_REFERENCE</th>\n",
       "      <th>x0_BUSINESS</th>\n",
       "      <th>x0_COMICS</th>\n",
       "      <th>x0_COMMUNICATION</th>\n",
       "      <th>x0_DATING</th>\n",
       "      <th>x0_EDUCATION</th>\n",
       "      <th>x0_ENTERTAINMENT</th>\n",
       "      <th>...</th>\n",
       "      <th>Current Ver</th>\n",
       "      <th>Current ver varies</th>\n",
       "      <th>Min Ver</th>\n",
       "      <th>Max Ver</th>\n",
       "      <th>Android ver varies</th>\n",
       "      <th>Reviews</th>\n",
       "      <th>Size</th>\n",
       "      <th>Updated Days</th>\n",
       "      <th>Price</th>\n",
       "      <th>Rating</th>\n",
       "    </tr>\n",
       "  </thead>\n",
       "  <tbody>\n",
       "    <tr>\n",
       "      <th>0</th>\n",
       "      <td>1.0</td>\n",
       "      <td>0.0</td>\n",
       "      <td>0.0</td>\n",
       "      <td>0.0</td>\n",
       "      <td>0.0</td>\n",
       "      <td>0.0</td>\n",
       "      <td>0.0</td>\n",
       "      <td>0.0</td>\n",
       "      <td>0.0</td>\n",
       "      <td>0.0</td>\n",
       "      <td>...</td>\n",
       "      <td>10.0</td>\n",
       "      <td>0.0</td>\n",
       "      <td>11.0</td>\n",
       "      <td>4.0</td>\n",
       "      <td>0.0</td>\n",
       "      <td>-0.163511</td>\n",
       "      <td>0.002038</td>\n",
       "      <td>-0.097080</td>\n",
       "      <td>-0.06076</td>\n",
       "      <td>4.1</td>\n",
       "    </tr>\n",
       "    <tr>\n",
       "      <th>1</th>\n",
       "      <td>1.0</td>\n",
       "      <td>0.0</td>\n",
       "      <td>0.0</td>\n",
       "      <td>0.0</td>\n",
       "      <td>0.0</td>\n",
       "      <td>0.0</td>\n",
       "      <td>0.0</td>\n",
       "      <td>0.0</td>\n",
       "      <td>0.0</td>\n",
       "      <td>0.0</td>\n",
       "      <td>...</td>\n",
       "      <td>20.0</td>\n",
       "      <td>0.0</td>\n",
       "      <td>11.0</td>\n",
       "      <td>4.0</td>\n",
       "      <td>0.0</td>\n",
       "      <td>-0.163254</td>\n",
       "      <td>-0.215189</td>\n",
       "      <td>-0.117274</td>\n",
       "      <td>-0.06076</td>\n",
       "      <td>3.9</td>\n",
       "    </tr>\n",
       "    <tr>\n",
       "      <th>2</th>\n",
       "      <td>1.0</td>\n",
       "      <td>0.0</td>\n",
       "      <td>0.0</td>\n",
       "      <td>0.0</td>\n",
       "      <td>0.0</td>\n",
       "      <td>0.0</td>\n",
       "      <td>0.0</td>\n",
       "      <td>0.0</td>\n",
       "      <td>0.0</td>\n",
       "      <td>0.0</td>\n",
       "      <td>...</td>\n",
       "      <td>12.0</td>\n",
       "      <td>0.0</td>\n",
       "      <td>11.0</td>\n",
       "      <td>4.0</td>\n",
       "      <td>0.0</td>\n",
       "      <td>-0.135735</td>\n",
       "      <td>-0.445451</td>\n",
       "      <td>-0.617090</td>\n",
       "      <td>-0.06076</td>\n",
       "      <td>4.7</td>\n",
       "    </tr>\n",
       "    <tr>\n",
       "      <th>3</th>\n",
       "      <td>1.0</td>\n",
       "      <td>0.0</td>\n",
       "      <td>0.0</td>\n",
       "      <td>0.0</td>\n",
       "      <td>0.0</td>\n",
       "      <td>0.0</td>\n",
       "      <td>0.0</td>\n",
       "      <td>0.0</td>\n",
       "      <td>0.0</td>\n",
       "      <td>0.0</td>\n",
       "      <td>...</td>\n",
       "      <td>0.0</td>\n",
       "      <td>1.0</td>\n",
       "      <td>13.0</td>\n",
       "      <td>4.0</td>\n",
       "      <td>0.0</td>\n",
       "      <td>-0.094991</td>\n",
       "      <td>0.262712</td>\n",
       "      <td>-0.480776</td>\n",
       "      <td>-0.06076</td>\n",
       "      <td>4.5</td>\n",
       "    </tr>\n",
       "    <tr>\n",
       "      <th>4</th>\n",
       "      <td>1.0</td>\n",
       "      <td>0.0</td>\n",
       "      <td>0.0</td>\n",
       "      <td>0.0</td>\n",
       "      <td>0.0</td>\n",
       "      <td>0.0</td>\n",
       "      <td>0.0</td>\n",
       "      <td>0.0</td>\n",
       "      <td>0.0</td>\n",
       "      <td>0.0</td>\n",
       "      <td>...</td>\n",
       "      <td>11.0</td>\n",
       "      <td>0.0</td>\n",
       "      <td>15.0</td>\n",
       "      <td>4.0</td>\n",
       "      <td>0.0</td>\n",
       "      <td>-0.163254</td>\n",
       "      <td>-0.701779</td>\n",
       "      <td>-0.511068</td>\n",
       "      <td>-0.06076</td>\n",
       "      <td>4.3</td>\n",
       "    </tr>\n",
       "  </tbody>\n",
       "</table>\n",
       "<p>5 rows × 147 columns</p>\n",
       "</div>"
      ],
      "text/plain": [
       "   x0_ART_AND_DESIGN  x0_AUTO_AND_VEHICLES  x0_BEAUTY  x0_BOOKS_AND_REFERENCE  \\\n",
       "0                1.0                   0.0        0.0                     0.0   \n",
       "1                1.0                   0.0        0.0                     0.0   \n",
       "2                1.0                   0.0        0.0                     0.0   \n",
       "3                1.0                   0.0        0.0                     0.0   \n",
       "4                1.0                   0.0        0.0                     0.0   \n",
       "\n",
       "   x0_BUSINESS  x0_COMICS  x0_COMMUNICATION  x0_DATING  x0_EDUCATION  \\\n",
       "0          0.0        0.0               0.0        0.0           0.0   \n",
       "1          0.0        0.0               0.0        0.0           0.0   \n",
       "2          0.0        0.0               0.0        0.0           0.0   \n",
       "3          0.0        0.0               0.0        0.0           0.0   \n",
       "4          0.0        0.0               0.0        0.0           0.0   \n",
       "\n",
       "   x0_ENTERTAINMENT  ...  Current Ver  Current ver varies  Min Ver  Max Ver  \\\n",
       "0               0.0  ...         10.0                 0.0     11.0      4.0   \n",
       "1               0.0  ...         20.0                 0.0     11.0      4.0   \n",
       "2               0.0  ...         12.0                 0.0     11.0      4.0   \n",
       "3               0.0  ...          0.0                 1.0     13.0      4.0   \n",
       "4               0.0  ...         11.0                 0.0     15.0      4.0   \n",
       "\n",
       "   Android ver varies   Reviews      Size  Updated Days    Price  Rating  \n",
       "0                 0.0 -0.163511  0.002038     -0.097080 -0.06076     4.1  \n",
       "1                 0.0 -0.163254 -0.215189     -0.117274 -0.06076     3.9  \n",
       "2                 0.0 -0.135735 -0.445451     -0.617090 -0.06076     4.7  \n",
       "3                 0.0 -0.094991  0.262712     -0.480776 -0.06076     4.5  \n",
       "4                 0.0 -0.163254 -0.701779     -0.511068 -0.06076     4.3  \n",
       "\n",
       "[5 rows x 147 columns]"
      ]
     },
     "execution_count": 259,
     "metadata": {},
     "output_type": "execute_result"
    }
   ],
   "source": [
    "df_preprocessed.head()"
   ]
  },
  {
   "cell_type": "code",
   "execution_count": 260,
   "metadata": {},
   "outputs": [
    {
     "name": "stdout",
     "output_type": "stream",
     "text": [
      "count    9360.000000\n",
      "mean        4.191838\n",
      "std         0.515263\n",
      "min         1.000000\n",
      "25%         4.000000\n",
      "50%         4.300000\n",
      "75%         4.500000\n",
      "max         5.000000\n",
      "Name: Rating, dtype: float64\n"
     ]
    }
   ],
   "source": [
    "y = df.Rating\n",
    "print(y.describe())"
   ]
  },
  {
   "cell_type": "code",
   "execution_count": 261,
   "metadata": {},
   "outputs": [],
   "source": [
    "import matplotlib\n",
    "from matplotlib import pylab as plt"
   ]
  },
  {
   "cell_type": "code",
   "execution_count": 262,
   "metadata": {},
   "outputs": [
    {
     "data": {
      "image/png": "[encoded data removed]",
      "text/plain": [
       "<Figure size 720x432 with 1 Axes>"
      ]
     },
     "metadata": {
      "needs_background": "light"
     },
     "output_type": "display_data"
    }
   ],
   "source": [
    "plt.figure(figsize=(10,6))\n",
    "plt.hist(y,bins = np.arange(1, 5, step=0.1))\n",
    "plt.xlabel('Rating')\n",
    "plt.ylabel('Count')\n",
    "plt.title('histogram of the target variable')\n",
    "plt.savefig('fig/hist.png',dpi=300)\n",
    "plt.show()"
   ]
  },
  {
   "cell_type": "markdown",
   "metadata": {},
   "source": [
    "The ratings of the apps in the app store seems to follow a left skewed distribution. Most of the apps are rated between 4.0 and 4.7. They do a good job with an average rating of 4.19."
   ]
  },
  {
   "cell_type": "code",
   "execution_count": 263,
   "metadata": {},
   "outputs": [
    {
     "data": {
      "text/plain": [
       "FAMILY                 1746\n",
       "GAME                   1097\n",
       "TOOLS                   733\n",
       "PRODUCTIVITY            351\n",
       "MEDICAL                 350\n",
       "COMMUNICATION           328\n",
       "FINANCE                 323\n",
       "SPORTS                  319\n",
       "PHOTOGRAPHY             317\n",
       "LIFESTYLE               314\n",
       "PERSONALIZATION         312\n",
       "BUSINESS                303\n",
       "HEALTH_AND_FITNESS      297\n",
       "SOCIAL                  259\n",
       "SHOPPING                238\n",
       "NEWS_AND_MAGAZINES      233\n",
       "TRAVEL_AND_LOCAL        226\n",
       "DATING                  195\n",
       "BOOKS_AND_REFERENCE     178\n",
       "VIDEO_PLAYERS           160\n",
       "EDUCATION               155\n",
       "ENTERTAINMENT           149\n",
       "MAPS_AND_NAVIGATION     124\n",
       "FOOD_AND_DRINK          109\n",
       "HOUSE_AND_HOME           76\n",
       "WEATHER                  75\n",
       "AUTO_AND_VEHICLES        73\n",
       "LIBRARIES_AND_DEMO       64\n",
       "ART_AND_DESIGN           61\n",
       "COMICS                   58\n",
       "PARENTING                50\n",
       "EVENTS                   45\n",
       "BEAUTY                   42\n",
       "Name: Category, dtype: int64"
      ]
     },
     "execution_count": 263,
     "metadata": {},
     "output_type": "execute_result"
    }
   ],
   "source": [
    "df.Category.value_counts()"
   ]
  },
  {
   "cell_type": "code",
   "execution_count": 264,
   "metadata": {},
   "outputs": [],
   "source": [
    "df_cat1 = df.groupby('Category').filter(lambda x: len(x) >= 200)\n",
    "df_cat2 = df.groupby('Category').filter(lambda x: len(x) < 200)"
   ]
  },
  {
   "cell_type": "code",
   "execution_count": 265,
   "metadata": {},
   "outputs": [
    {
     "data": {
      "image/png": "[encoded data removed]",
      "text/plain": [
       "<Figure size 1440x720 with 1 Axes>"
      ]
     },
     "metadata": {
      "needs_background": "light"
     },
     "output_type": "display_data"
    }
   ],
   "source": [
    "df_cat1[['Rating','Category']].boxplot(by='Category',figsize = (20,10),showmeans=True)\n",
    "#plt.tight_layout()\n",
    "plt.xticks(rotation=30)\n",
    "#plt.yticks(np.arange(2.5, 5, step=0.1))\n",
    "plt.xlabel('Category')\n",
    "plt.ylabel('Rating')\n",
    "plt.title('Ratings of Big Categories (# of apps > 220)')\n",
    "plt.savefig('fig/box_cat_rating1.png',dpi=300)\n",
    "plt.show()"
   ]
  },
  {
   "cell_type": "code",
   "execution_count": 266,
   "metadata": {},
   "outputs": [
    {
     "data": {
      "image/png": "[encoded data removed]",
      "text/plain": [
       "<Figure size 1440x720 with 1 Axes>"
      ]
     },
     "metadata": {
      "needs_background": "light"
     },
     "output_type": "display_data"
    }
   ],
   "source": [
    "df_cat2[['Rating','Category']].boxplot(by='Category',figsize = (20,10),showmeans=True)\n",
    "#plt.tight_layout()\n",
    "plt.xticks(rotation=30)\n",
    "#plt.yticks(np.arange(2.5, 5, step=0.1))\n",
    "plt.xlabel('Category')\n",
    "plt.ylabel('Rating')\n",
    "plt.title('Boxplot between Category and Rating')\n",
    "plt.savefig('fig/box_cat_rating2.png',dpi=300)\n",
    "plt.show()"
   ]
  },
  {
   "cell_type": "markdown",
   "metadata": {},
   "source": [
    "We take a close look at the categories that have more than 200 apps, which is the median number of apps group by categories.   \n",
    "\n",
    "We can see that some categories, such as health and fitness, books and reference, events have more than 50% of apps rated higher than 4.5, which is higer than the average rating of overall apps which is about 4.2. Also, some categories, such as beauty, education and weather do a good job for they do not have ratings below 3. However, there are categories that both have very good and bad ratings, such as family and finace, which implies the users are more selective in these categories."
   ]
  },
  {
   "cell_type": "code",
   "execution_count": 267,
   "metadata": {},
   "outputs": [],
   "source": [
    "#a = df['Rating'].hist(by=df['Category'], sharex=True, figsize=(20,20))"
   ]
  },
  {
   "cell_type": "code",
   "execution_count": 268,
   "metadata": {},
   "outputs": [
    {
     "data": {
      "image/png": "[encoded data removed]",
      "text/plain": [
       "<Figure size 1440x360 with 1 Axes>"
      ]
     },
     "metadata": {
      "needs_background": "light"
     },
     "output_type": "display_data"
    }
   ],
   "source": [
    "plt.figure(figsize=(20,5))\n",
    "pd.value_counts(df['Category']).plot.bar()\n",
    "plt.xticks(rotation=30)\n",
    "plt.tight_layout()\n",
    "plt.show()"
   ]
  },
  {
   "cell_type": "code",
   "execution_count": 269,
   "metadata": {},
   "outputs": [
    {
     "data": {
      "text/plain": [
       "count    9360.000000\n",
       "mean       18.953080\n",
       "std        23.018546\n",
       "min         0.000000\n",
       "25%         2.400000\n",
       "50%         9.500000\n",
       "75%        27.000000\n",
       "max       100.000000\n",
       "Name: Size, dtype: float64"
      ]
     },
     "execution_count": 269,
     "metadata": {},
     "output_type": "execute_result"
    }
   ],
   "source": [
    "df.Size.describe()"
   ]
  },
  {
   "cell_type": "code",
   "execution_count": 270,
   "metadata": {},
   "outputs": [
    {
     "data": {
      "text/plain": [
       "GAME                   502\n",
       "FAMILY                 492\n",
       "SPORTS                  51\n",
       "HEALTH_AND_FITNESS      50\n",
       "MEDICAL                 37\n",
       "PHOTOGRAPHY             33\n",
       "TRAVEL_AND_LOCAL        32\n",
       "FINANCE                 29\n",
       "SOCIAL                  25\n",
       "LIFESTYLE               20\n",
       "PRODUCTIVITY            18\n",
       "BUSINESS                17\n",
       "EDUCATION               17\n",
       "PERSONALIZATION         15\n",
       "DATING                  14\n",
       "FOOD_AND_DRINK          14\n",
       "VIDEO_PLAYERS           13\n",
       "ENTERTAINMENT           13\n",
       "MAPS_AND_NAVIGATION     12\n",
       "SHOPPING                11\n",
       "TOOLS                   11\n",
       "BOOKS_AND_REFERENCE     11\n",
       "COMMUNICATION            8\n",
       "AUTO_AND_VEHICLES        8\n",
       "PARENTING                7\n",
       "LIBRARIES_AND_DEMO       5\n",
       "HOUSE_AND_HOME           3\n",
       "BEAUTY                   3\n",
       "WEATHER                  2\n",
       "NEWS_AND_MAGAZINES       2\n",
       "EVENTS                   2\n",
       "Name: Category, dtype: int64"
      ]
     },
     "execution_count": 270,
     "metadata": {},
     "output_type": "execute_result"
    }
   ],
   "source": [
    "df[df.Size > 40]['Category'].value_counts()"
   ]
  },
  {
   "cell_type": "code",
   "execution_count": 271,
   "metadata": {},
   "outputs": [],
   "source": [
    "#df_size = df[df.Size > 40]"
   ]
  },
  {
   "cell_type": "code",
   "execution_count": 272,
   "metadata": {},
   "outputs": [],
   "source": [
    "#plt.figure(figsize=(20,5))\n",
    "#pd.value_counts(df_size['Category']).plot.bar()\n",
    "#plt.xticks(rotation=30)\n",
    "#plt.tight_layout()\n",
    "#plt.show()"
   ]
  },
  {
   "cell_type": "code",
   "execution_count": 273,
   "metadata": {},
   "outputs": [],
   "source": [
    "#df_size_cat = df[(df.Size > 40) & ((df.Category == 'GAME') | (df.Category == 'FAMILY'))]"
   ]
  },
  {
   "cell_type": "code",
   "execution_count": 274,
   "metadata": {},
   "outputs": [
    {
     "data": {
      "image/png": "[encoded data removed]",
      "text/plain": [
       "<Figure size 720x432 with 1 Axes>"
      ]
     },
     "metadata": {
      "needs_background": "light"
     },
     "output_type": "display_data"
    }
   ],
   "source": [
    "df.plot.scatter('Size','Rating',figsize = (10,6))\n",
    "plt.title('Scatter plot between Size and Rating')\n",
    "plt.savefig('fig/scat_size_rating.png',dpi=300)\n",
    "plt.show()"
   ]
  },
  {
   "cell_type": "markdown",
   "metadata": {},
   "source": [
    "We also look at apps with large size like over 60 megabytes and find out that they totally have high ratings on average."
   ]
  },
  {
   "cell_type": "code",
   "execution_count": 275,
   "metadata": {},
   "outputs": [
    {
     "data": {
      "text/plain": [
       "FINANCE      6\n",
       "LIFESTYLE    5\n",
       "FAMILY       4\n",
       "Name: Category, dtype: int64"
      ]
     },
     "execution_count": 275,
     "metadata": {},
     "output_type": "execute_result"
    }
   ],
   "source": [
    "df['Category'][df.Price > 200].value_counts()"
   ]
  },
  {
   "cell_type": "code",
   "execution_count": 276,
   "metadata": {},
   "outputs": [
    {
     "data": {
      "text/plain": [
       "count    9.360000e+03\n",
       "mean     5.143767e+05\n",
       "std      3.145023e+06\n",
       "min      1.000000e+00\n",
       "25%      1.867500e+02\n",
       "50%      5.955000e+03\n",
       "75%      8.162750e+04\n",
       "max      7.815831e+07\n",
       "Name: Reviews, dtype: float64"
      ]
     },
     "execution_count": 276,
     "metadata": {},
     "output_type": "execute_result"
    }
   ],
   "source": [
    "df.Reviews.describe()"
   ]
  },
  {
   "cell_type": "code",
   "execution_count": 277,
   "metadata": {},
   "outputs": [
    {
     "data": {
      "image/png": "[encoded data removed]",
      "text/plain": [
       "<Figure size 720x432 with 1 Axes>"
      ]
     },
     "metadata": {
      "needs_background": "light"
     },
     "output_type": "display_data"
    }
   ],
   "source": [
    "df.plot.scatter('Reviews','Rating',figsize = (10,6))\n",
    "plt.xlabel('Reviews')\n",
    "plt.ylabel('Rating')\n",
    "plt.title('Scatterplot between Reviews and Rating')\n",
    "plt.savefig('fig/scat_rev_rating.png',dpi=300)\n",
    "plt.show()"
   ]
  },
  {
   "cell_type": "code",
   "execution_count": 294,
   "metadata": {},
   "outputs": [
    {
     "data": {
      "text/plain": [
       "Candy Crush Saga                                      7\n",
       "Subway Surfers                                        6\n",
       "Instagram                                             4\n",
       "Clash Royale                                          4\n",
       "Clash of Clans                                        4\n",
       "Messenger – Text and Video Chat for Free              3\n",
       "WhatsApp Messenger                                    3\n",
       "YouTube                                               2\n",
       "Facebook                                              2\n",
       "Clean Master- Space Cleaner & Antivirus               1\n",
       "Security Master - Antivirus, VPN, AppLock, Booster    1\n",
       "Name: App, dtype: int64"
      ]
     },
     "execution_count": 294,
     "metadata": {},
     "output_type": "execute_result"
    }
   ],
   "source": [
    "df_review = df[(df.Reviews) > 20000000]\n",
    "df_review.App.value_counts()"
   ]
  },
  {
   "cell_type": "code",
   "execution_count": 280,
   "metadata": {},
   "outputs": [
    {
     "data": {
      "text/html": [
       "<div>\n",
       "<style scoped>\n",
       "    .dataframe tbody tr th:only-of-type {\n",
       "        vertical-align: middle;\n",
       "    }\n",
       "\n",
       "    .dataframe tbody tr th {\n",
       "        vertical-align: top;\n",
       "    }\n",
       "\n",
       "    .dataframe thead th {\n",
       "        text-align: right;\n",
       "    }\n",
       "</style>\n",
       "<table border=\"1\" class=\"dataframe\">\n",
       "  <thead>\n",
       "    <tr style=\"text-align: right;\">\n",
       "      <th></th>\n",
       "      <th>App</th>\n",
       "      <th>Category</th>\n",
       "      <th>Rating</th>\n",
       "      <th>Reviews</th>\n",
       "      <th>Size</th>\n",
       "      <th>Installs</th>\n",
       "      <th>Type</th>\n",
       "      <th>Price</th>\n",
       "      <th>Content Rating</th>\n",
       "      <th>Genres</th>\n",
       "      <th>...</th>\n",
       "      <th>Current Ver</th>\n",
       "      <th>Android Ver</th>\n",
       "      <th>Size varies</th>\n",
       "      <th>First Genre</th>\n",
       "      <th>Second Genre</th>\n",
       "      <th>Updated Days</th>\n",
       "      <th>Current ver varies</th>\n",
       "      <th>Android ver varies</th>\n",
       "      <th>Min Ver</th>\n",
       "      <th>Max Ver</th>\n",
       "    </tr>\n",
       "  </thead>\n",
       "  <tbody>\n",
       "    <tr>\n",
       "      <th>2544</th>\n",
       "      <td>Facebook</td>\n",
       "      <td>SOCIAL</td>\n",
       "      <td>4.1</td>\n",
       "      <td>78158306</td>\n",
       "      <td>0.0</td>\n",
       "      <td>1,000,000,000+</td>\n",
       "      <td>Free</td>\n",
       "      <td>0.0</td>\n",
       "      <td>Teen</td>\n",
       "      <td>Social</td>\n",
       "      <td>...</td>\n",
       "      <td>0.0</td>\n",
       "      <td>Varies with device</td>\n",
       "      <td>1</td>\n",
       "      <td>Social</td>\n",
       "      <td>Social</td>\n",
       "      <td>444.0</td>\n",
       "      <td>1</td>\n",
       "      <td>1</td>\n",
       "      <td>0</td>\n",
       "      <td>0</td>\n",
       "    </tr>\n",
       "    <tr>\n",
       "      <th>3943</th>\n",
       "      <td>Facebook</td>\n",
       "      <td>SOCIAL</td>\n",
       "      <td>4.1</td>\n",
       "      <td>78128208</td>\n",
       "      <td>0.0</td>\n",
       "      <td>1,000,000,000+</td>\n",
       "      <td>Free</td>\n",
       "      <td>0.0</td>\n",
       "      <td>Teen</td>\n",
       "      <td>Social</td>\n",
       "      <td>...</td>\n",
       "      <td>0.0</td>\n",
       "      <td>Varies with device</td>\n",
       "      <td>1</td>\n",
       "      <td>Social</td>\n",
       "      <td>Social</td>\n",
       "      <td>444.0</td>\n",
       "      <td>1</td>\n",
       "      <td>1</td>\n",
       "      <td>0</td>\n",
       "      <td>0</td>\n",
       "    </tr>\n",
       "    <tr>\n",
       "      <th>336</th>\n",
       "      <td>WhatsApp Messenger</td>\n",
       "      <td>COMMUNICATION</td>\n",
       "      <td>4.4</td>\n",
       "      <td>69119316</td>\n",
       "      <td>0.0</td>\n",
       "      <td>1,000,000,000+</td>\n",
       "      <td>Free</td>\n",
       "      <td>0.0</td>\n",
       "      <td>Everyone</td>\n",
       "      <td>Communication</td>\n",
       "      <td>...</td>\n",
       "      <td>0.0</td>\n",
       "      <td>Varies with device</td>\n",
       "      <td>1</td>\n",
       "      <td>Communication</td>\n",
       "      <td>Communication</td>\n",
       "      <td>444.0</td>\n",
       "      <td>1</td>\n",
       "      <td>1</td>\n",
       "      <td>0</td>\n",
       "      <td>0</td>\n",
       "    </tr>\n",
       "    <tr>\n",
       "      <th>381</th>\n",
       "      <td>WhatsApp Messenger</td>\n",
       "      <td>COMMUNICATION</td>\n",
       "      <td>4.4</td>\n",
       "      <td>69119316</td>\n",
       "      <td>0.0</td>\n",
       "      <td>1,000,000,000+</td>\n",
       "      <td>Free</td>\n",
       "      <td>0.0</td>\n",
       "      <td>Everyone</td>\n",
       "      <td>Communication</td>\n",
       "      <td>...</td>\n",
       "      <td>0.0</td>\n",
       "      <td>Varies with device</td>\n",
       "      <td>1</td>\n",
       "      <td>Communication</td>\n",
       "      <td>Communication</td>\n",
       "      <td>444.0</td>\n",
       "      <td>1</td>\n",
       "      <td>1</td>\n",
       "      <td>0</td>\n",
       "      <td>0</td>\n",
       "    </tr>\n",
       "    <tr>\n",
       "      <th>3904</th>\n",
       "      <td>WhatsApp Messenger</td>\n",
       "      <td>COMMUNICATION</td>\n",
       "      <td>4.4</td>\n",
       "      <td>69109672</td>\n",
       "      <td>0.0</td>\n",
       "      <td>1,000,000,000+</td>\n",
       "      <td>Free</td>\n",
       "      <td>0.0</td>\n",
       "      <td>Everyone</td>\n",
       "      <td>Communication</td>\n",
       "      <td>...</td>\n",
       "      <td>0.0</td>\n",
       "      <td>Varies with device</td>\n",
       "      <td>1</td>\n",
       "      <td>Communication</td>\n",
       "      <td>Communication</td>\n",
       "      <td>444.0</td>\n",
       "      <td>1</td>\n",
       "      <td>1</td>\n",
       "      <td>0</td>\n",
       "      <td>0</td>\n",
       "    </tr>\n",
       "    <tr>\n",
       "      <th>2604</th>\n",
       "      <td>Instagram</td>\n",
       "      <td>SOCIAL</td>\n",
       "      <td>4.5</td>\n",
       "      <td>66577446</td>\n",
       "      <td>0.0</td>\n",
       "      <td>1,000,000,000+</td>\n",
       "      <td>Free</td>\n",
       "      <td>0.0</td>\n",
       "      <td>Teen</td>\n",
       "      <td>Social</td>\n",
       "      <td>...</td>\n",
       "      <td>0.0</td>\n",
       "      <td>Varies with device</td>\n",
       "      <td>1</td>\n",
       "      <td>Social</td>\n",
       "      <td>Social</td>\n",
       "      <td>447.0</td>\n",
       "      <td>1</td>\n",
       "      <td>1</td>\n",
       "      <td>0</td>\n",
       "      <td>0</td>\n",
       "    </tr>\n",
       "    <tr>\n",
       "      <th>2611</th>\n",
       "      <td>Instagram</td>\n",
       "      <td>SOCIAL</td>\n",
       "      <td>4.5</td>\n",
       "      <td>66577313</td>\n",
       "      <td>0.0</td>\n",
       "      <td>1,000,000,000+</td>\n",
       "      <td>Free</td>\n",
       "      <td>0.0</td>\n",
       "      <td>Teen</td>\n",
       "      <td>Social</td>\n",
       "      <td>...</td>\n",
       "      <td>0.0</td>\n",
       "      <td>Varies with device</td>\n",
       "      <td>1</td>\n",
       "      <td>Social</td>\n",
       "      <td>Social</td>\n",
       "      <td>447.0</td>\n",
       "      <td>1</td>\n",
       "      <td>1</td>\n",
       "      <td>0</td>\n",
       "      <td>0</td>\n",
       "    </tr>\n",
       "    <tr>\n",
       "      <th>2545</th>\n",
       "      <td>Instagram</td>\n",
       "      <td>SOCIAL</td>\n",
       "      <td>4.5</td>\n",
       "      <td>66577313</td>\n",
       "      <td>0.0</td>\n",
       "      <td>1,000,000,000+</td>\n",
       "      <td>Free</td>\n",
       "      <td>0.0</td>\n",
       "      <td>Teen</td>\n",
       "      <td>Social</td>\n",
       "      <td>...</td>\n",
       "      <td>0.0</td>\n",
       "      <td>Varies with device</td>\n",
       "      <td>1</td>\n",
       "      <td>Social</td>\n",
       "      <td>Social</td>\n",
       "      <td>447.0</td>\n",
       "      <td>1</td>\n",
       "      <td>1</td>\n",
       "      <td>0</td>\n",
       "      <td>0</td>\n",
       "    </tr>\n",
       "    <tr>\n",
       "      <th>3909</th>\n",
       "      <td>Instagram</td>\n",
       "      <td>SOCIAL</td>\n",
       "      <td>4.5</td>\n",
       "      <td>66509917</td>\n",
       "      <td>0.0</td>\n",
       "      <td>1,000,000,000+</td>\n",
       "      <td>Free</td>\n",
       "      <td>0.0</td>\n",
       "      <td>Teen</td>\n",
       "      <td>Social</td>\n",
       "      <td>...</td>\n",
       "      <td>0.0</td>\n",
       "      <td>Varies with device</td>\n",
       "      <td>1</td>\n",
       "      <td>Social</td>\n",
       "      <td>Social</td>\n",
       "      <td>447.0</td>\n",
       "      <td>1</td>\n",
       "      <td>1</td>\n",
       "      <td>0</td>\n",
       "      <td>0</td>\n",
       "    </tr>\n",
       "    <tr>\n",
       "      <th>382</th>\n",
       "      <td>Messenger – Text and Video Chat for Free</td>\n",
       "      <td>COMMUNICATION</td>\n",
       "      <td>4.0</td>\n",
       "      <td>56646578</td>\n",
       "      <td>0.0</td>\n",
       "      <td>1,000,000,000+</td>\n",
       "      <td>Free</td>\n",
       "      <td>0.0</td>\n",
       "      <td>Everyone</td>\n",
       "      <td>Communication</td>\n",
       "      <td>...</td>\n",
       "      <td>0.0</td>\n",
       "      <td>Varies with device</td>\n",
       "      <td>1</td>\n",
       "      <td>Communication</td>\n",
       "      <td>Communication</td>\n",
       "      <td>446.0</td>\n",
       "      <td>1</td>\n",
       "      <td>1</td>\n",
       "      <td>0</td>\n",
       "      <td>0</td>\n",
       "    </tr>\n",
       "    <tr>\n",
       "      <th>335</th>\n",
       "      <td>Messenger – Text and Video Chat for Free</td>\n",
       "      <td>COMMUNICATION</td>\n",
       "      <td>4.0</td>\n",
       "      <td>56642847</td>\n",
       "      <td>0.0</td>\n",
       "      <td>1,000,000,000+</td>\n",
       "      <td>Free</td>\n",
       "      <td>0.0</td>\n",
       "      <td>Everyone</td>\n",
       "      <td>Communication</td>\n",
       "      <td>...</td>\n",
       "      <td>0.0</td>\n",
       "      <td>Varies with device</td>\n",
       "      <td>1</td>\n",
       "      <td>Communication</td>\n",
       "      <td>Communication</td>\n",
       "      <td>446.0</td>\n",
       "      <td>1</td>\n",
       "      <td>1</td>\n",
       "      <td>0</td>\n",
       "      <td>0</td>\n",
       "    </tr>\n",
       "    <tr>\n",
       "      <th>4104</th>\n",
       "      <td>Messenger – Text and Video Chat for Free</td>\n",
       "      <td>COMMUNICATION</td>\n",
       "      <td>4.0</td>\n",
       "      <td>56642847</td>\n",
       "      <td>0.0</td>\n",
       "      <td>1,000,000,000+</td>\n",
       "      <td>Free</td>\n",
       "      <td>0.0</td>\n",
       "      <td>Everyone</td>\n",
       "      <td>Communication</td>\n",
       "      <td>...</td>\n",
       "      <td>0.0</td>\n",
       "      <td>Varies with device</td>\n",
       "      <td>1</td>\n",
       "      <td>Communication</td>\n",
       "      <td>Communication</td>\n",
       "      <td>446.0</td>\n",
       "      <td>1</td>\n",
       "      <td>1</td>\n",
       "      <td>0</td>\n",
       "      <td>0</td>\n",
       "    </tr>\n",
       "    <tr>\n",
       "      <th>1879</th>\n",
       "      <td>Clash of Clans</td>\n",
       "      <td>GAME</td>\n",
       "      <td>4.6</td>\n",
       "      <td>44893888</td>\n",
       "      <td>98.0</td>\n",
       "      <td>100,000,000+</td>\n",
       "      <td>Free</td>\n",
       "      <td>0.0</td>\n",
       "      <td>Everyone 10+</td>\n",
       "      <td>Strategy</td>\n",
       "      <td>...</td>\n",
       "      <td>1.0</td>\n",
       "      <td>4.1 and up</td>\n",
       "      <td>0</td>\n",
       "      <td>Strategy</td>\n",
       "      <td>Strategy</td>\n",
       "      <td>463.0</td>\n",
       "      <td>0</td>\n",
       "      <td>0</td>\n",
       "      <td>4.1</td>\n",
       "      <td>9</td>\n",
       "    </tr>\n",
       "    <tr>\n",
       "      <th>1670</th>\n",
       "      <td>Clash of Clans</td>\n",
       "      <td>GAME</td>\n",
       "      <td>4.6</td>\n",
       "      <td>44891723</td>\n",
       "      <td>98.0</td>\n",
       "      <td>100,000,000+</td>\n",
       "      <td>Free</td>\n",
       "      <td>0.0</td>\n",
       "      <td>Everyone 10+</td>\n",
       "      <td>Strategy</td>\n",
       "      <td>...</td>\n",
       "      <td>1.0</td>\n",
       "      <td>4.1 and up</td>\n",
       "      <td>0</td>\n",
       "      <td>Strategy</td>\n",
       "      <td>Strategy</td>\n",
       "      <td>463.0</td>\n",
       "      <td>0</td>\n",
       "      <td>0</td>\n",
       "      <td>4.1</td>\n",
       "      <td>9</td>\n",
       "    </tr>\n",
       "    <tr>\n",
       "      <th>1704</th>\n",
       "      <td>Clash of Clans</td>\n",
       "      <td>GAME</td>\n",
       "      <td>4.6</td>\n",
       "      <td>44891723</td>\n",
       "      <td>98.0</td>\n",
       "      <td>100,000,000+</td>\n",
       "      <td>Free</td>\n",
       "      <td>0.0</td>\n",
       "      <td>Everyone 10+</td>\n",
       "      <td>Strategy</td>\n",
       "      <td>...</td>\n",
       "      <td>1.0</td>\n",
       "      <td>4.1 and up</td>\n",
       "      <td>0</td>\n",
       "      <td>Strategy</td>\n",
       "      <td>Strategy</td>\n",
       "      <td>463.0</td>\n",
       "      <td>0</td>\n",
       "      <td>0</td>\n",
       "      <td>4.1</td>\n",
       "      <td>9</td>\n",
       "    </tr>\n",
       "    <tr>\n",
       "      <th>3986</th>\n",
       "      <td>Clash of Clans</td>\n",
       "      <td>FAMILY</td>\n",
       "      <td>4.6</td>\n",
       "      <td>44881447</td>\n",
       "      <td>98.0</td>\n",
       "      <td>100,000,000+</td>\n",
       "      <td>Free</td>\n",
       "      <td>0.0</td>\n",
       "      <td>Everyone 10+</td>\n",
       "      <td>Strategy</td>\n",
       "      <td>...</td>\n",
       "      <td>1.0</td>\n",
       "      <td>4.1 and up</td>\n",
       "      <td>0</td>\n",
       "      <td>Strategy</td>\n",
       "      <td>Strategy</td>\n",
       "      <td>463.0</td>\n",
       "      <td>0</td>\n",
       "      <td>0</td>\n",
       "      <td>4.1</td>\n",
       "      <td>9</td>\n",
       "    </tr>\n",
       "    <tr>\n",
       "      <th>4005</th>\n",
       "      <td>Clean Master- Space Cleaner &amp; Antivirus</td>\n",
       "      <td>TOOLS</td>\n",
       "      <td>4.7</td>\n",
       "      <td>42916526</td>\n",
       "      <td>0.0</td>\n",
       "      <td>500,000,000+</td>\n",
       "      <td>Free</td>\n",
       "      <td>0.0</td>\n",
       "      <td>Everyone</td>\n",
       "      <td>Tools</td>\n",
       "      <td>...</td>\n",
       "      <td>0.0</td>\n",
       "      <td>Varies with device</td>\n",
       "      <td>1</td>\n",
       "      <td>Tools</td>\n",
       "      <td>Tools</td>\n",
       "      <td>444.0</td>\n",
       "      <td>1</td>\n",
       "      <td>1</td>\n",
       "      <td>0</td>\n",
       "      <td>0</td>\n",
       "    </tr>\n",
       "    <tr>\n",
       "      <th>1872</th>\n",
       "      <td>Subway Surfers</td>\n",
       "      <td>GAME</td>\n",
       "      <td>4.5</td>\n",
       "      <td>27725352</td>\n",
       "      <td>76.0</td>\n",
       "      <td>1,000,000,000+</td>\n",
       "      <td>Free</td>\n",
       "      <td>0.0</td>\n",
       "      <td>Everyone 10+</td>\n",
       "      <td>Arcade</td>\n",
       "      <td>...</td>\n",
       "      <td>1.9</td>\n",
       "      <td>4.1 and up</td>\n",
       "      <td>0</td>\n",
       "      <td>Arcade</td>\n",
       "      <td>Arcade</td>\n",
       "      <td>466.0</td>\n",
       "      <td>0</td>\n",
       "      <td>0</td>\n",
       "      <td>4.1</td>\n",
       "      <td>9</td>\n",
       "    </tr>\n",
       "    <tr>\n",
       "      <th>1917</th>\n",
       "      <td>Subway Surfers</td>\n",
       "      <td>GAME</td>\n",
       "      <td>4.5</td>\n",
       "      <td>27725352</td>\n",
       "      <td>76.0</td>\n",
       "      <td>1,000,000,000+</td>\n",
       "      <td>Free</td>\n",
       "      <td>0.0</td>\n",
       "      <td>Everyone 10+</td>\n",
       "      <td>Arcade</td>\n",
       "      <td>...</td>\n",
       "      <td>1.9</td>\n",
       "      <td>4.1 and up</td>\n",
       "      <td>0</td>\n",
       "      <td>Arcade</td>\n",
       "      <td>Arcade</td>\n",
       "      <td>466.0</td>\n",
       "      <td>0</td>\n",
       "      <td>0</td>\n",
       "      <td>4.1</td>\n",
       "      <td>9</td>\n",
       "    </tr>\n",
       "    <tr>\n",
       "      <th>1750</th>\n",
       "      <td>Subway Surfers</td>\n",
       "      <td>GAME</td>\n",
       "      <td>4.5</td>\n",
       "      <td>27724094</td>\n",
       "      <td>76.0</td>\n",
       "      <td>1,000,000,000+</td>\n",
       "      <td>Free</td>\n",
       "      <td>0.0</td>\n",
       "      <td>Everyone 10+</td>\n",
       "      <td>Arcade</td>\n",
       "      <td>...</td>\n",
       "      <td>1.9</td>\n",
       "      <td>4.1 and up</td>\n",
       "      <td>0</td>\n",
       "      <td>Arcade</td>\n",
       "      <td>Arcade</td>\n",
       "      <td>466.0</td>\n",
       "      <td>0</td>\n",
       "      <td>0</td>\n",
       "      <td>4.1</td>\n",
       "      <td>9</td>\n",
       "    </tr>\n",
       "    <tr>\n",
       "      <th>1700</th>\n",
       "      <td>Subway Surfers</td>\n",
       "      <td>GAME</td>\n",
       "      <td>4.5</td>\n",
       "      <td>27723193</td>\n",
       "      <td>76.0</td>\n",
       "      <td>1,000,000,000+</td>\n",
       "      <td>Free</td>\n",
       "      <td>0.0</td>\n",
       "      <td>Everyone 10+</td>\n",
       "      <td>Arcade</td>\n",
       "      <td>...</td>\n",
       "      <td>1.9</td>\n",
       "      <td>4.1 and up</td>\n",
       "      <td>0</td>\n",
       "      <td>Arcade</td>\n",
       "      <td>Arcade</td>\n",
       "      <td>466.0</td>\n",
       "      <td>0</td>\n",
       "      <td>0</td>\n",
       "      <td>4.1</td>\n",
       "      <td>9</td>\n",
       "    </tr>\n",
       "    <tr>\n",
       "      <th>1654</th>\n",
       "      <td>Subway Surfers</td>\n",
       "      <td>GAME</td>\n",
       "      <td>4.5</td>\n",
       "      <td>27722264</td>\n",
       "      <td>76.0</td>\n",
       "      <td>1,000,000,000+</td>\n",
       "      <td>Free</td>\n",
       "      <td>0.0</td>\n",
       "      <td>Everyone 10+</td>\n",
       "      <td>Arcade</td>\n",
       "      <td>...</td>\n",
       "      <td>1.9</td>\n",
       "      <td>4.1 and up</td>\n",
       "      <td>0</td>\n",
       "      <td>Arcade</td>\n",
       "      <td>Arcade</td>\n",
       "      <td>466.0</td>\n",
       "      <td>0</td>\n",
       "      <td>0</td>\n",
       "      <td>4.1</td>\n",
       "      <td>9</td>\n",
       "    </tr>\n",
       "    <tr>\n",
       "      <th>3896</th>\n",
       "      <td>Subway Surfers</td>\n",
       "      <td>GAME</td>\n",
       "      <td>4.5</td>\n",
       "      <td>27711703</td>\n",
       "      <td>76.0</td>\n",
       "      <td>1,000,000,000+</td>\n",
       "      <td>Free</td>\n",
       "      <td>0.0</td>\n",
       "      <td>Everyone 10+</td>\n",
       "      <td>Arcade</td>\n",
       "      <td>...</td>\n",
       "      <td>1.9</td>\n",
       "      <td>4.1 and up</td>\n",
       "      <td>0</td>\n",
       "      <td>Arcade</td>\n",
       "      <td>Arcade</td>\n",
       "      <td>466.0</td>\n",
       "      <td>0</td>\n",
       "      <td>0</td>\n",
       "      <td>4.1</td>\n",
       "      <td>9</td>\n",
       "    </tr>\n",
       "    <tr>\n",
       "      <th>3665</th>\n",
       "      <td>YouTube</td>\n",
       "      <td>VIDEO_PLAYERS</td>\n",
       "      <td>4.3</td>\n",
       "      <td>25655305</td>\n",
       "      <td>0.0</td>\n",
       "      <td>1,000,000,000+</td>\n",
       "      <td>Free</td>\n",
       "      <td>0.0</td>\n",
       "      <td>Teen</td>\n",
       "      <td>Video Players &amp; Editors</td>\n",
       "      <td>...</td>\n",
       "      <td>0.0</td>\n",
       "      <td>Varies with device</td>\n",
       "      <td>1</td>\n",
       "      <td>Video Players &amp; Editors</td>\n",
       "      <td>Video Players &amp; Editors</td>\n",
       "      <td>445.0</td>\n",
       "      <td>1</td>\n",
       "      <td>1</td>\n",
       "      <td>0</td>\n",
       "      <td>0</td>\n",
       "    </tr>\n",
       "    <tr>\n",
       "      <th>3928</th>\n",
       "      <td>YouTube</td>\n",
       "      <td>VIDEO_PLAYERS</td>\n",
       "      <td>4.3</td>\n",
       "      <td>25623548</td>\n",
       "      <td>0.0</td>\n",
       "      <td>1,000,000,000+</td>\n",
       "      <td>Free</td>\n",
       "      <td>0.0</td>\n",
       "      <td>Teen</td>\n",
       "      <td>Video Players &amp; Editors</td>\n",
       "      <td>...</td>\n",
       "      <td>0.0</td>\n",
       "      <td>Varies with device</td>\n",
       "      <td>1</td>\n",
       "      <td>Video Players &amp; Editors</td>\n",
       "      <td>Video Players &amp; Editors</td>\n",
       "      <td>445.0</td>\n",
       "      <td>1</td>\n",
       "      <td>1</td>\n",
       "      <td>0</td>\n",
       "      <td>0</td>\n",
       "    </tr>\n",
       "    <tr>\n",
       "      <th>7536</th>\n",
       "      <td>Security Master - Antivirus, VPN, AppLock, Boo...</td>\n",
       "      <td>TOOLS</td>\n",
       "      <td>4.7</td>\n",
       "      <td>24900999</td>\n",
       "      <td>0.0</td>\n",
       "      <td>500,000,000+</td>\n",
       "      <td>Free</td>\n",
       "      <td>0.0</td>\n",
       "      <td>Everyone</td>\n",
       "      <td>Tools</td>\n",
       "      <td>...</td>\n",
       "      <td>4.6</td>\n",
       "      <td>Varies with device</td>\n",
       "      <td>1</td>\n",
       "      <td>Tools</td>\n",
       "      <td>Tools</td>\n",
       "      <td>443.0</td>\n",
       "      <td>0</td>\n",
       "      <td>1</td>\n",
       "      <td>0</td>\n",
       "      <td>0</td>\n",
       "    </tr>\n",
       "    <tr>\n",
       "      <th>1878</th>\n",
       "      <td>Clash Royale</td>\n",
       "      <td>GAME</td>\n",
       "      <td>4.6</td>\n",
       "      <td>23136735</td>\n",
       "      <td>97.0</td>\n",
       "      <td>100,000,000+</td>\n",
       "      <td>Free</td>\n",
       "      <td>0.0</td>\n",
       "      <td>Everyone 10+</td>\n",
       "      <td>Strategy</td>\n",
       "      <td>...</td>\n",
       "      <td>2.3</td>\n",
       "      <td>4.1 and up</td>\n",
       "      <td>0</td>\n",
       "      <td>Strategy</td>\n",
       "      <td>Strategy</td>\n",
       "      <td>481.0</td>\n",
       "      <td>0</td>\n",
       "      <td>0</td>\n",
       "      <td>4.1</td>\n",
       "      <td>9</td>\n",
       "    </tr>\n",
       "    <tr>\n",
       "      <th>1721</th>\n",
       "      <td>Clash Royale</td>\n",
       "      <td>GAME</td>\n",
       "      <td>4.6</td>\n",
       "      <td>23134775</td>\n",
       "      <td>97.0</td>\n",
       "      <td>100,000,000+</td>\n",
       "      <td>Free</td>\n",
       "      <td>0.0</td>\n",
       "      <td>Everyone 10+</td>\n",
       "      <td>Strategy</td>\n",
       "      <td>...</td>\n",
       "      <td>2.3</td>\n",
       "      <td>4.1 and up</td>\n",
       "      <td>0</td>\n",
       "      <td>Strategy</td>\n",
       "      <td>Strategy</td>\n",
       "      <td>481.0</td>\n",
       "      <td>0</td>\n",
       "      <td>0</td>\n",
       "      <td>4.1</td>\n",
       "      <td>9</td>\n",
       "    </tr>\n",
       "    <tr>\n",
       "      <th>1660</th>\n",
       "      <td>Clash Royale</td>\n",
       "      <td>GAME</td>\n",
       "      <td>4.6</td>\n",
       "      <td>23133508</td>\n",
       "      <td>97.0</td>\n",
       "      <td>100,000,000+</td>\n",
       "      <td>Free</td>\n",
       "      <td>0.0</td>\n",
       "      <td>Everyone 10+</td>\n",
       "      <td>Strategy</td>\n",
       "      <td>...</td>\n",
       "      <td>2.3</td>\n",
       "      <td>4.1 and up</td>\n",
       "      <td>0</td>\n",
       "      <td>Strategy</td>\n",
       "      <td>Strategy</td>\n",
       "      <td>481.0</td>\n",
       "      <td>0</td>\n",
       "      <td>0</td>\n",
       "      <td>4.1</td>\n",
       "      <td>9</td>\n",
       "    </tr>\n",
       "    <tr>\n",
       "      <th>3987</th>\n",
       "      <td>Clash Royale</td>\n",
       "      <td>FAMILY</td>\n",
       "      <td>4.6</td>\n",
       "      <td>23125280</td>\n",
       "      <td>97.0</td>\n",
       "      <td>100,000,000+</td>\n",
       "      <td>Free</td>\n",
       "      <td>0.0</td>\n",
       "      <td>Everyone 10+</td>\n",
       "      <td>Strategy</td>\n",
       "      <td>...</td>\n",
       "      <td>2.3</td>\n",
       "      <td>4.1 and up</td>\n",
       "      <td>0</td>\n",
       "      <td>Strategy</td>\n",
       "      <td>Strategy</td>\n",
       "      <td>481.0</td>\n",
       "      <td>0</td>\n",
       "      <td>0</td>\n",
       "      <td>4.1</td>\n",
       "      <td>9</td>\n",
       "    </tr>\n",
       "    <tr>\n",
       "      <th>1966</th>\n",
       "      <td>Candy Crush Saga</td>\n",
       "      <td>GAME</td>\n",
       "      <td>4.4</td>\n",
       "      <td>22430188</td>\n",
       "      <td>74.0</td>\n",
       "      <td>500,000,000+</td>\n",
       "      <td>Free</td>\n",
       "      <td>0.0</td>\n",
       "      <td>Everyone</td>\n",
       "      <td>Casual</td>\n",
       "      <td>...</td>\n",
       "      <td>1.1</td>\n",
       "      <td>4.1 and up</td>\n",
       "      <td>0</td>\n",
       "      <td>Casual</td>\n",
       "      <td>Casual</td>\n",
       "      <td>473.0</td>\n",
       "      <td>0</td>\n",
       "      <td>0</td>\n",
       "      <td>4.1</td>\n",
       "      <td>9</td>\n",
       "    </tr>\n",
       "    <tr>\n",
       "      <th>1869</th>\n",
       "      <td>Candy Crush Saga</td>\n",
       "      <td>GAME</td>\n",
       "      <td>4.4</td>\n",
       "      <td>22430188</td>\n",
       "      <td>74.0</td>\n",
       "      <td>500,000,000+</td>\n",
       "      <td>Free</td>\n",
       "      <td>0.0</td>\n",
       "      <td>Everyone</td>\n",
       "      <td>Casual</td>\n",
       "      <td>...</td>\n",
       "      <td>1.1</td>\n",
       "      <td>4.1 and up</td>\n",
       "      <td>0</td>\n",
       "      <td>Casual</td>\n",
       "      <td>Casual</td>\n",
       "      <td>473.0</td>\n",
       "      <td>0</td>\n",
       "      <td>0</td>\n",
       "      <td>4.1</td>\n",
       "      <td>9</td>\n",
       "    </tr>\n",
       "    <tr>\n",
       "      <th>1842</th>\n",
       "      <td>Candy Crush Saga</td>\n",
       "      <td>GAME</td>\n",
       "      <td>4.4</td>\n",
       "      <td>22429716</td>\n",
       "      <td>74.0</td>\n",
       "      <td>500,000,000+</td>\n",
       "      <td>Free</td>\n",
       "      <td>0.0</td>\n",
       "      <td>Everyone</td>\n",
       "      <td>Casual</td>\n",
       "      <td>...</td>\n",
       "      <td>1.1</td>\n",
       "      <td>4.1 and up</td>\n",
       "      <td>0</td>\n",
       "      <td>Casual</td>\n",
       "      <td>Casual</td>\n",
       "      <td>473.0</td>\n",
       "      <td>0</td>\n",
       "      <td>0</td>\n",
       "      <td>4.1</td>\n",
       "      <td>9</td>\n",
       "    </tr>\n",
       "    <tr>\n",
       "      <th>1705</th>\n",
       "      <td>Candy Crush Saga</td>\n",
       "      <td>GAME</td>\n",
       "      <td>4.4</td>\n",
       "      <td>22428456</td>\n",
       "      <td>74.0</td>\n",
       "      <td>500,000,000+</td>\n",
       "      <td>Free</td>\n",
       "      <td>0.0</td>\n",
       "      <td>Everyone</td>\n",
       "      <td>Casual</td>\n",
       "      <td>...</td>\n",
       "      <td>1.1</td>\n",
       "      <td>4.1 and up</td>\n",
       "      <td>0</td>\n",
       "      <td>Casual</td>\n",
       "      <td>Casual</td>\n",
       "      <td>473.0</td>\n",
       "      <td>0</td>\n",
       "      <td>0</td>\n",
       "      <td>4.1</td>\n",
       "      <td>9</td>\n",
       "    </tr>\n",
       "    <tr>\n",
       "      <th>1751</th>\n",
       "      <td>Candy Crush Saga</td>\n",
       "      <td>GAME</td>\n",
       "      <td>4.4</td>\n",
       "      <td>22428456</td>\n",
       "      <td>74.0</td>\n",
       "      <td>500,000,000+</td>\n",
       "      <td>Free</td>\n",
       "      <td>0.0</td>\n",
       "      <td>Everyone</td>\n",
       "      <td>Casual</td>\n",
       "      <td>...</td>\n",
       "      <td>1.1</td>\n",
       "      <td>4.1 and up</td>\n",
       "      <td>0</td>\n",
       "      <td>Casual</td>\n",
       "      <td>Casual</td>\n",
       "      <td>473.0</td>\n",
       "      <td>0</td>\n",
       "      <td>0</td>\n",
       "      <td>4.1</td>\n",
       "      <td>9</td>\n",
       "    </tr>\n",
       "    <tr>\n",
       "      <th>1655</th>\n",
       "      <td>Candy Crush Saga</td>\n",
       "      <td>GAME</td>\n",
       "      <td>4.4</td>\n",
       "      <td>22426677</td>\n",
       "      <td>74.0</td>\n",
       "      <td>500,000,000+</td>\n",
       "      <td>Free</td>\n",
       "      <td>0.0</td>\n",
       "      <td>Everyone</td>\n",
       "      <td>Casual</td>\n",
       "      <td>...</td>\n",
       "      <td>1.1</td>\n",
       "      <td>4.1 and up</td>\n",
       "      <td>0</td>\n",
       "      <td>Casual</td>\n",
       "      <td>Casual</td>\n",
       "      <td>473.0</td>\n",
       "      <td>0</td>\n",
       "      <td>0</td>\n",
       "      <td>4.1</td>\n",
       "      <td>9</td>\n",
       "    </tr>\n",
       "    <tr>\n",
       "      <th>3994</th>\n",
       "      <td>Candy Crush Saga</td>\n",
       "      <td>FAMILY</td>\n",
       "      <td>4.4</td>\n",
       "      <td>22419455</td>\n",
       "      <td>74.0</td>\n",
       "      <td>500,000,000+</td>\n",
       "      <td>Free</td>\n",
       "      <td>0.0</td>\n",
       "      <td>Everyone</td>\n",
       "      <td>Casual</td>\n",
       "      <td>...</td>\n",
       "      <td>1.1</td>\n",
       "      <td>4.1 and up</td>\n",
       "      <td>0</td>\n",
       "      <td>Casual</td>\n",
       "      <td>Casual</td>\n",
       "      <td>473.0</td>\n",
       "      <td>0</td>\n",
       "      <td>0</td>\n",
       "      <td>4.1</td>\n",
       "      <td>9</td>\n",
       "    </tr>\n",
       "  </tbody>\n",
       "</table>\n",
       "<p>37 rows × 21 columns</p>\n",
       "</div>"
      ],
      "text/plain": [
       "                                                    App       Category  \\\n",
       "2544                                           Facebook         SOCIAL   \n",
       "3943                                           Facebook         SOCIAL   \n",
       "336                                  WhatsApp Messenger  COMMUNICATION   \n",
       "381                                  WhatsApp Messenger  COMMUNICATION   \n",
       "3904                                 WhatsApp Messenger  COMMUNICATION   \n",
       "2604                                          Instagram         SOCIAL   \n",
       "2611                                          Instagram         SOCIAL   \n",
       "2545                                          Instagram         SOCIAL   \n",
       "3909                                          Instagram         SOCIAL   \n",
       "382            Messenger – Text and Video Chat for Free  COMMUNICATION   \n",
       "335            Messenger – Text and Video Chat for Free  COMMUNICATION   \n",
       "4104           Messenger – Text and Video Chat for Free  COMMUNICATION   \n",
       "1879                                     Clash of Clans           GAME   \n",
       "1670                                     Clash of Clans           GAME   \n",
       "1704                                     Clash of Clans           GAME   \n",
       "3986                                     Clash of Clans         FAMILY   \n",
       "4005            Clean Master- Space Cleaner & Antivirus          TOOLS   \n",
       "1872                                     Subway Surfers           GAME   \n",
       "1917                                     Subway Surfers           GAME   \n",
       "1750                                     Subway Surfers           GAME   \n",
       "1700                                     Subway Surfers           GAME   \n",
       "1654                                     Subway Surfers           GAME   \n",
       "3896                                     Subway Surfers           GAME   \n",
       "3665                                            YouTube  VIDEO_PLAYERS   \n",
       "3928                                            YouTube  VIDEO_PLAYERS   \n",
       "7536  Security Master - Antivirus, VPN, AppLock, Boo...          TOOLS   \n",
       "1878                                       Clash Royale           GAME   \n",
       "1721                                       Clash Royale           GAME   \n",
       "1660                                       Clash Royale           GAME   \n",
       "3987                                       Clash Royale         FAMILY   \n",
       "1966                                   Candy Crush Saga           GAME   \n",
       "1869                                   Candy Crush Saga           GAME   \n",
       "1842                                   Candy Crush Saga           GAME   \n",
       "1705                                   Candy Crush Saga           GAME   \n",
       "1751                                   Candy Crush Saga           GAME   \n",
       "1655                                   Candy Crush Saga           GAME   \n",
       "3994                                   Candy Crush Saga         FAMILY   \n",
       "\n",
       "      Rating   Reviews  Size        Installs  Type  Price Content Rating  \\\n",
       "2544     4.1  78158306   0.0  1,000,000,000+  Free    0.0           Teen   \n",
       "3943     4.1  78128208   0.0  1,000,000,000+  Free    0.0           Teen   \n",
       "336      4.4  69119316   0.0  1,000,000,000+  Free    0.0       Everyone   \n",
       "381      4.4  69119316   0.0  1,000,000,000+  Free    0.0       Everyone   \n",
       "3904     4.4  69109672   0.0  1,000,000,000+  Free    0.0       Everyone   \n",
       "2604     4.5  66577446   0.0  1,000,000,000+  Free    0.0           Teen   \n",
       "2611     4.5  66577313   0.0  1,000,000,000+  Free    0.0           Teen   \n",
       "2545     4.5  66577313   0.0  1,000,000,000+  Free    0.0           Teen   \n",
       "3909     4.5  66509917   0.0  1,000,000,000+  Free    0.0           Teen   \n",
       "382      4.0  56646578   0.0  1,000,000,000+  Free    0.0       Everyone   \n",
       "335      4.0  56642847   0.0  1,000,000,000+  Free    0.0       Everyone   \n",
       "4104     4.0  56642847   0.0  1,000,000,000+  Free    0.0       Everyone   \n",
       "1879     4.6  44893888  98.0    100,000,000+  Free    0.0   Everyone 10+   \n",
       "1670     4.6  44891723  98.0    100,000,000+  Free    0.0   Everyone 10+   \n",
       "1704     4.6  44891723  98.0    100,000,000+  Free    0.0   Everyone 10+   \n",
       "3986     4.6  44881447  98.0    100,000,000+  Free    0.0   Everyone 10+   \n",
       "4005     4.7  42916526   0.0    500,000,000+  Free    0.0       Everyone   \n",
       "1872     4.5  27725352  76.0  1,000,000,000+  Free    0.0   Everyone 10+   \n",
       "1917     4.5  27725352  76.0  1,000,000,000+  Free    0.0   Everyone 10+   \n",
       "1750     4.5  27724094  76.0  1,000,000,000+  Free    0.0   Everyone 10+   \n",
       "1700     4.5  27723193  76.0  1,000,000,000+  Free    0.0   Everyone 10+   \n",
       "1654     4.5  27722264  76.0  1,000,000,000+  Free    0.0   Everyone 10+   \n",
       "3896     4.5  27711703  76.0  1,000,000,000+  Free    0.0   Everyone 10+   \n",
       "3665     4.3  25655305   0.0  1,000,000,000+  Free    0.0           Teen   \n",
       "3928     4.3  25623548   0.0  1,000,000,000+  Free    0.0           Teen   \n",
       "7536     4.7  24900999   0.0    500,000,000+  Free    0.0       Everyone   \n",
       "1878     4.6  23136735  97.0    100,000,000+  Free    0.0   Everyone 10+   \n",
       "1721     4.6  23134775  97.0    100,000,000+  Free    0.0   Everyone 10+   \n",
       "1660     4.6  23133508  97.0    100,000,000+  Free    0.0   Everyone 10+   \n",
       "3987     4.6  23125280  97.0    100,000,000+  Free    0.0   Everyone 10+   \n",
       "1966     4.4  22430188  74.0    500,000,000+  Free    0.0       Everyone   \n",
       "1869     4.4  22430188  74.0    500,000,000+  Free    0.0       Everyone   \n",
       "1842     4.4  22429716  74.0    500,000,000+  Free    0.0       Everyone   \n",
       "1705     4.4  22428456  74.0    500,000,000+  Free    0.0       Everyone   \n",
       "1751     4.4  22428456  74.0    500,000,000+  Free    0.0       Everyone   \n",
       "1655     4.4  22426677  74.0    500,000,000+  Free    0.0       Everyone   \n",
       "3994     4.4  22419455  74.0    500,000,000+  Free    0.0       Everyone   \n",
       "\n",
       "                       Genres  ... Current Ver         Android Ver  \\\n",
       "2544                   Social  ...         0.0  Varies with device   \n",
       "3943                   Social  ...         0.0  Varies with device   \n",
       "336             Communication  ...         0.0  Varies with device   \n",
       "381             Communication  ...         0.0  Varies with device   \n",
       "3904            Communication  ...         0.0  Varies with device   \n",
       "2604                   Social  ...         0.0  Varies with device   \n",
       "2611                   Social  ...         0.0  Varies with device   \n",
       "2545                   Social  ...         0.0  Varies with device   \n",
       "3909                   Social  ...         0.0  Varies with device   \n",
       "382             Communication  ...         0.0  Varies with device   \n",
       "335             Communication  ...         0.0  Varies with device   \n",
       "4104            Communication  ...         0.0  Varies with device   \n",
       "1879                 Strategy  ...         1.0          4.1 and up   \n",
       "1670                 Strategy  ...         1.0          4.1 and up   \n",
       "1704                 Strategy  ...         1.0          4.1 and up   \n",
       "3986                 Strategy  ...         1.0          4.1 and up   \n",
       "4005                    Tools  ...         0.0  Varies with device   \n",
       "1872                   Arcade  ...         1.9          4.1 and up   \n",
       "1917                   Arcade  ...         1.9          4.1 and up   \n",
       "1750                   Arcade  ...         1.9          4.1 and up   \n",
       "1700                   Arcade  ...         1.9          4.1 and up   \n",
       "1654                   Arcade  ...         1.9          4.1 and up   \n",
       "3896                   Arcade  ...         1.9          4.1 and up   \n",
       "3665  Video Players & Editors  ...         0.0  Varies with device   \n",
       "3928  Video Players & Editors  ...         0.0  Varies with device   \n",
       "7536                    Tools  ...         4.6  Varies with device   \n",
       "1878                 Strategy  ...         2.3          4.1 and up   \n",
       "1721                 Strategy  ...         2.3          4.1 and up   \n",
       "1660                 Strategy  ...         2.3          4.1 and up   \n",
       "3987                 Strategy  ...         2.3          4.1 and up   \n",
       "1966                   Casual  ...         1.1          4.1 and up   \n",
       "1869                   Casual  ...         1.1          4.1 and up   \n",
       "1842                   Casual  ...         1.1          4.1 and up   \n",
       "1705                   Casual  ...         1.1          4.1 and up   \n",
       "1751                   Casual  ...         1.1          4.1 and up   \n",
       "1655                   Casual  ...         1.1          4.1 and up   \n",
       "3994                   Casual  ...         1.1          4.1 and up   \n",
       "\n",
       "     Size varies              First Genre             Second Genre  \\\n",
       "2544           1                   Social                   Social   \n",
       "3943           1                   Social                   Social   \n",
       "336            1            Communication            Communication   \n",
       "381            1            Communication            Communication   \n",
       "3904           1            Communication            Communication   \n",
       "2604           1                   Social                   Social   \n",
       "2611           1                   Social                   Social   \n",
       "2545           1                   Social                   Social   \n",
       "3909           1                   Social                   Social   \n",
       "382            1            Communication            Communication   \n",
       "335            1            Communication            Communication   \n",
       "4104           1            Communication            Communication   \n",
       "1879           0                 Strategy                 Strategy   \n",
       "1670           0                 Strategy                 Strategy   \n",
       "1704           0                 Strategy                 Strategy   \n",
       "3986           0                 Strategy                 Strategy   \n",
       "4005           1                    Tools                    Tools   \n",
       "1872           0                   Arcade                   Arcade   \n",
       "1917           0                   Arcade                   Arcade   \n",
       "1750           0                   Arcade                   Arcade   \n",
       "1700           0                   Arcade                   Arcade   \n",
       "1654           0                   Arcade                   Arcade   \n",
       "3896           0                   Arcade                   Arcade   \n",
       "3665           1  Video Players & Editors  Video Players & Editors   \n",
       "3928           1  Video Players & Editors  Video Players & Editors   \n",
       "7536           1                    Tools                    Tools   \n",
       "1878           0                 Strategy                 Strategy   \n",
       "1721           0                 Strategy                 Strategy   \n",
       "1660           0                 Strategy                 Strategy   \n",
       "3987           0                 Strategy                 Strategy   \n",
       "1966           0                   Casual                   Casual   \n",
       "1869           0                   Casual                   Casual   \n",
       "1842           0                   Casual                   Casual   \n",
       "1705           0                   Casual                   Casual   \n",
       "1751           0                   Casual                   Casual   \n",
       "1655           0                   Casual                   Casual   \n",
       "3994           0                   Casual                   Casual   \n",
       "\n",
       "     Updated Days  Current ver varies  Android ver varies  Min Ver Max Ver  \n",
       "2544        444.0                   1                   1        0       0  \n",
       "3943        444.0                   1                   1        0       0  \n",
       "336         444.0                   1                   1        0       0  \n",
       "381         444.0                   1                   1        0       0  \n",
       "3904        444.0                   1                   1        0       0  \n",
       "2604        447.0                   1                   1        0       0  \n",
       "2611        447.0                   1                   1        0       0  \n",
       "2545        447.0                   1                   1        0       0  \n",
       "3909        447.0                   1                   1        0       0  \n",
       "382         446.0                   1                   1        0       0  \n",
       "335         446.0                   1                   1        0       0  \n",
       "4104        446.0                   1                   1        0       0  \n",
       "1879        463.0                   0                   0      4.1       9  \n",
       "1670        463.0                   0                   0      4.1       9  \n",
       "1704        463.0                   0                   0      4.1       9  \n",
       "3986        463.0                   0                   0      4.1       9  \n",
       "4005        444.0                   1                   1        0       0  \n",
       "1872        466.0                   0                   0      4.1       9  \n",
       "1917        466.0                   0                   0      4.1       9  \n",
       "1750        466.0                   0                   0      4.1       9  \n",
       "1700        466.0                   0                   0      4.1       9  \n",
       "1654        466.0                   0                   0      4.1       9  \n",
       "3896        466.0                   0                   0      4.1       9  \n",
       "3665        445.0                   1                   1        0       0  \n",
       "3928        445.0                   1                   1        0       0  \n",
       "7536        443.0                   0                   1        0       0  \n",
       "1878        481.0                   0                   0      4.1       9  \n",
       "1721        481.0                   0                   0      4.1       9  \n",
       "1660        481.0                   0                   0      4.1       9  \n",
       "3987        481.0                   0                   0      4.1       9  \n",
       "1966        473.0                   0                   0      4.1       9  \n",
       "1869        473.0                   0                   0      4.1       9  \n",
       "1842        473.0                   0                   0      4.1       9  \n",
       "1705        473.0                   0                   0      4.1       9  \n",
       "1751        473.0                   0                   0      4.1       9  \n",
       "1655        473.0                   0                   0      4.1       9  \n",
       "3994        473.0                   0                   0      4.1       9  \n",
       "\n",
       "[37 rows x 21 columns]"
      ]
     },
     "execution_count": 280,
     "metadata": {},
     "output_type": "execute_result"
    }
   ],
   "source": [
    "df_review.sort_values(by=['Reviews'],ascending=False)"
   ]
  },
  {
   "cell_type": "code",
   "execution_count": 281,
   "metadata": {},
   "outputs": [
    {
     "data": {
      "image/png": "[encoded data removed]",
      "text/plain": [
       "<Figure size 576x288 with 1 Axes>"
      ]
     },
     "metadata": {
      "needs_background": "light"
     },
     "output_type": "display_data"
    }
   ],
   "source": [
    "plt.figure(figsize=(8,4))\n",
    "pd.value_counts(df_review['Category']).plot.bar()\n",
    "plt.xticks(rotation=15)\n",
    "plt.xlabel('Category')\n",
    "plt.ylabel('count')\n",
    "plt.yticks(np.arange(0, 20, step=2))\n",
    "plt.title('Category Barplot with Most Reviewed Apps (Reviews>2e7)')\n",
    "plt.savefig('fig/most_reviewed.png')\n",
    "plt.show()"
   ]
  },
  {
   "cell_type": "code",
   "execution_count": 282,
   "metadata": {},
   "outputs": [],
   "source": [
    "df_rev = df[(df.Reviews < 10000)]"
   ]
  },
  {
   "cell_type": "code",
   "execution_count": 283,
   "metadata": {},
   "outputs": [
    {
     "data": {
      "image/png": "[encoded data removed]",
      "text/plain": [
       "<Figure size 720x432 with 1 Axes>"
      ]
     },
     "metadata": {
      "needs_background": "light"
     },
     "output_type": "display_data"
    }
   ],
   "source": [
    "df_rev.plot.scatter('Reviews','Rating',figsize = (10,6))\n",
    "plt.show()"
   ]
  },
  {
   "cell_type": "code",
   "execution_count": 284,
   "metadata": {},
   "outputs": [
    {
     "data": {
      "image/png": "[encoded data removed]",
      "text/plain": [
       "<Figure size 720x360 with 1 Axes>"
      ]
     },
     "metadata": {
      "needs_background": "light"
     },
     "output_type": "display_data"
    }
   ],
   "source": [
    "ax = df[['Rating','Installs']].boxplot(by='Installs',figsize = (10,5))\n",
    "plt.xlabel('Installs')\n",
    "plt.ylabel('Rating')\n",
    "plt.title('Boxplot between Installs and Rating')\n",
    "labels = ax.set_xticklabels(['1+','5+','10+','50+','100+','500+','1,000+','5,000+','10,000+','50,000+','100,000+','500,000+',\\\n",
    "                             '1,000,000+','5,000,000+','10,000,000+','50,000,000+','100,000,000+','500,000,000+','1,000,000,000+'],rotation=30)\n",
    "plt.savefig('fig/box_ins_rating.png',dpi=300)\n",
    "plt.show()"
   ]
  },
  {
   "cell_type": "markdown",
   "metadata": {},
   "source": [
    "With this plot, we cannot easily say by intuition that more installs results in high ratings. And we can see that the median rating will be above 4 no matter how many times an app was installed."
   ]
  },
  {
   "cell_type": "code",
   "execution_count": 285,
   "metadata": {},
   "outputs": [
    {
     "data": {
      "image/png": "[encoded data removed]",
      "text/plain": [
       "<Figure size 432x288 with 1 Axes>"
      ]
     },
     "metadata": {
      "needs_background": "light"
     },
     "output_type": "display_data"
    }
   ],
   "source": [
    "df[['Rating','Type']].boxplot(by='Type')\n",
    "plt.xlabel('Type')\n",
    "plt.ylabel('Rating')\n",
    "plt.title('Boxplot between Type and Rating')\n",
    "plt.savefig('fig/box_type_rating.png',dpi=300)\n",
    "plt.show()"
   ]
  },
  {
   "cell_type": "markdown",
   "metadata": {},
   "source": [
    "On average, paid apps achieve higher ratings."
   ]
  },
  {
   "cell_type": "code",
   "execution_count": 286,
   "metadata": {},
   "outputs": [],
   "source": [
    "df_price = df.sort_values(by=['Price'],ascending=False)\n",
    "df_price = df_price[:100]"
   ]
  },
  {
   "cell_type": "code",
   "execution_count": 287,
   "metadata": {},
   "outputs": [
    {
     "data": {
      "image/png": "[encoded data removed]",
      "text/plain": [
       "<Figure size 720x360 with 1 Axes>"
      ]
     },
     "metadata": {
      "needs_background": "light"
     },
     "output_type": "display_data"
    }
   ],
   "source": [
    "plt.figure(figsize=(10,5))\n",
    "pd.value_counts(df_price['Category']).plot.bar()\n",
    "plt.xticks(rotation=15)\n",
    "plt.xlabel('Category')\n",
    "plt.ylabel('count')\n",
    "plt.title('Category Barplot with 100 Most Expenive Apps')\n",
    "plt.savefig('fig/100_expensive.png')\n",
    "plt.show()"
   ]
  },
  {
   "cell_type": "markdown",
   "metadata": {},
   "source": [
    "By the way, we take a look at the 100 most expenive apps and find that medical, family and finance are the three most expensive among all the categories."
   ]
  },
  {
   "cell_type": "code",
   "execution_count": 288,
   "metadata": {},
   "outputs": [
    {
     "data": {
      "image/png": "[encoded data removed]",
      "text/plain": [
       "<Figure size 720x432 with 1 Axes>"
      ]
     },
     "metadata": {
      "needs_background": "light"
     },
     "output_type": "display_data"
    }
   ],
   "source": [
    "df.plot.scatter('Price','Rating',figsize = (10,6))\n",
    "plt.show()"
   ]
  },
  {
   "cell_type": "code",
   "execution_count": 289,
   "metadata": {},
   "outputs": [
    {
     "data": {
      "text/plain": [
       "<matplotlib.axes._subplots.AxesSubplot at 0x7fe7952a6e48>"
      ]
     },
     "execution_count": 289,
     "metadata": {},
     "output_type": "execute_result"
    },
    {
     "data": {
      "image/png": "[encoded data removed]",
      "text/plain": [
       "<Figure size 432x288 with 1 Axes>"
      ]
     },
     "metadata": {
      "needs_background": "light"
     },
     "output_type": "display_data"
    }
   ],
   "source": [
    "df.plot.scatter('Updated Days','Rating')"
   ]
  },
  {
   "cell_type": "code",
   "execution_count": 290,
   "metadata": {},
   "outputs": [
    {
     "data": {
      "image/png": "[encoded data removed]",
      "text/plain": [
       "<Figure size 720x360 with 1 Axes>"
      ]
     },
     "metadata": {
      "needs_background": "light"
     },
     "output_type": "display_data"
    }
   ],
   "source": [
    "plt.figure(figsize=(10,5))\n",
    "pd.value_counts(df['Content Rating']).plot.bar()\n",
    "#plt.tight_layout()\n",
    "plt.xticks(rotation=0)\n",
    "plt.xlabel('Content Rating')\n",
    "plt.ylabel('Count')\n",
    "plt.show()"
   ]
  },
  {
   "cell_type": "code",
   "execution_count": 291,
   "metadata": {},
   "outputs": [
    {
     "data": {
      "image/png": "[encoded data removed]",
      "text/plain": [
       "<Figure size 720x360 with 1 Axes>"
      ]
     },
     "metadata": {
      "needs_background": "light"
     },
     "output_type": "display_data"
    }
   ],
   "source": [
    "df[['Rating','Content Rating']].boxplot(by='Content Rating',showfliers = False,showmeans = True,figsize=(10,5))\n",
    "plt.xlabel('Content Rating')\n",
    "plt.ylabel('Rating')\n",
    "plt.show()"
   ]
  },
  {
   "cell_type": "markdown",
   "metadata": {},
   "source": [
    "The majority of the content rating of apps target at everyone. However, when we look at the ratings in each target group, we can see that some groups have higher ratings on average."
   ]
  },
  {
   "cell_type": "code",
   "execution_count": 292,
   "metadata": {},
   "outputs": [
    {
     "data": {
      "image/png": "[encoded data removed]",
      "text/plain": [
       "<Figure size 432x288 with 1 Axes>"
      ]
     },
     "metadata": {
      "needs_background": "light"
     },
     "output_type": "display_data"
    }
   ],
   "source": [
    "categories = df['Min Ver'].unique()\n",
    "bin_range = (df['Rating'].min(),df['Rating'].max())\n",
    "\n",
    "for c in categories:\n",
    "    plt.hist(df[df['Min Ver']==c]['Rating'],alpha=0.5,label=c,range=bin_range,bins=50)\n",
    "plt.legend()\n",
    "plt.ylabel('count')\n",
    "plt.xlabel('Min Ver')\n",
    "plt.show()"
   ]
  },
  {
   "cell_type": "code",
   "execution_count": null,
   "metadata": {},
   "outputs": [],
   "source": []
  },
  {
   "cell_type": "code",
   "execution_count": null,
   "metadata": {},
   "outputs": [],
   "source": []
  },
  {
   "cell_type": "code",
   "execution_count": null,
   "metadata": {},
   "outputs": [],
   "source": []
  }
 ],
 "metadata": {
  "kernelspec": {
   "display_name": "Python 3",
   "language": "python",
   "name": "python3"
  },
  "language_info": {
   "codemirror_mode": {
    "name": "ipython",
    "version": 3
   },
   "file_extension": ".py",
   "mimetype": "text/x-python",
   "name": "python",
   "nbconvert_exporter": "python",
   "pygments_lexer": "ipython3",
   "version": "3.7.3"
  }
 },
 "nbformat": 4,
 "nbformat_minor": 4
}
